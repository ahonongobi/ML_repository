{
 "cells": [
  {
   "cell_type": "markdown",
   "metadata": {
    "collapsed": false
   },
   "source": [
    "# LaTeX Formulas for Machine Learning\n",
    "\n",
    "This notebook demonstrates various LaTeX formulas used in Machine Learning, showing both the LaTeX code and its rendered output.\n",
    "\n",
    "## Example 1: Linear Regression\n",
    "\n",
    "$$\\hat{y} = \\mathbf{w}^T \\mathbf{x} + b$$\n",
    "\n",
    "**LaTeX Code:**"
   ],
   "id": "69def85bfc39fee0"
  },
  {
   "cell_type": "markdown",
   "source": [
    "\n",
    "```\n",
    "\\hat{y} = \\mathbf{w}^T \\mathbf{x} + b\n",
    "```"
   ],
   "metadata": {
    "collapsed": false
   },
   "id": "2ab342b5e6697908"
  },
  {
   "cell_type": "markdown",
   "source": [
    "\n",
    "## Example 2: Logistic Regression\n",
    "\n",
    "$$p(y=1 \\mid \\mathbf{x}; \\mathbf{w}) = \\sigma(\\mathbf{w}^T \\mathbf{x})$$\n",
    "\n",
    "**LaTeX Code:**"
   ],
   "metadata": {
    "collapsed": false
   },
   "id": "c9e38aeb92da940e"
  },
  {
   "cell_type": "markdown",
   "source": [
    "\n",
    "```\n",
    "p(y=1 \\mid \\mathbf{x}; \\mathbf{w}) = \\sigma(\\mathbf{w}^T \\mathbf{x})\n",
    "```"
   ],
   "metadata": {
    "collapsed": false
   },
   "id": "16a0404e9412c97a"
  },
  {
   "cell_type": "markdown",
   "source": [
    "\n",
    "## Example 3: Support Vector Machine\n",
    "\n",
    "$$\\text{max}_{\\mathbf{w}, b} \\, \\frac{2}{\\|\\mathbf{w}\\|} \\quad \\text{subject to} \\quad y_i (\\mathbf{w}^T \\mathbf{x}_i + b) \\geq 1$$\n",
    "\n",
    "**LaTeX Code:**"
   ],
   "metadata": {
    "collapsed": false
   },
   "id": "c491273db3fc6ef1"
  },
  {
   "cell_type": "markdown",
   "source": [
    "\n",
    "```\n",
    "\\text{max}_{\\mathbf{w}, b} \\, \\frac{2}{\\|\\mathbf{w}\\|} \\quad \\text{subject to} \\quad y_i (\\mathbf{w}^T \\mathbf{x}_i + b) \\geq 1\n",
    "```"
   ],
   "metadata": {
    "collapsed": false
   },
   "id": "2507ad38296e9e34"
  },
  {
   "cell_type": "markdown",
   "source": [
    "\n",
    "## Example 4: Convolutional Neural Network\n",
    "\n",
    "$$\\mathbf{y} = \\mathbf{W} * \\mathbf{x} + \\mathbf{b}$$\n",
    "\n",
    "**LaTeX Code:**"
   ],
   "metadata": {
    "collapsed": false
   },
   "id": "8fb475cff8a3a25c"
  },
  {
   "cell_type": "markdown",
   "source": [
    "\n",
    "```\n",
    "\\mathbf{y} = \\mathbf{W} * \\mathbf{x} + \\mathbf{b}\n",
    "```"
   ],
   "metadata": {
    "collapsed": false
   },
   "id": "75b29abec0678cfa"
  },
  {
   "cell_type": "markdown",
   "source": [
    "\n",
    "## Example 5: Autoencoder\n",
    "\n",
    "$$\\mathbf{x} \\approx \\mathbf{W}_{\\text{encoder}} \\mathbf{z} + \\mathbf{b}_{\\text{encoder}}$$\n",
    "\n",
    "**LaTeX Code:**"
   ],
   "metadata": {
    "collapsed": false
   },
   "id": "74d255f826370705"
  },
  {
   "cell_type": "markdown",
   "source": [
    "\n",
    "```\n",
    "\\mathbf{x} \\approx \\mathbf{W}_{\\text{encoder}} \\mathbf{z} + \\mathbf{b}_{\\text{encoder}}\n",
    "```\n",
    "\n",
    "## Example 6: Neural Network Loss Function\n",
    "\n",
    "$$L(\\mathbf{y}, \\hat{\\mathbf{y}}) = -\\sum_{i} y_i \\log(\\hat{y}_i)$$\n",
    "\n",
    "**LaTeX Code:**"
   ],
   "metadata": {
    "collapsed": false
   },
   "id": "38b150eec8063c79"
  },
  {
   "cell_type": "markdown",
   "source": [
    "\n",
    "```\n",
    "L(\\mathbf{y}, \\hat{\\mathbf{y}}) = -\\sum_{i} y_i \\log(\\hat{y}_i)\n",
    "```"
   ],
   "metadata": {
    "collapsed": false
   },
   "id": "d2dbc3fc380c458e"
  },
  {
   "cell_type": "markdown",
   "source": [
    "\n",
    "## Example 7: Principal Component Analysis (PCA)\n",
    "\n",
    "$$\\mathbf{X} = \\mathbf{W} \\mathbf{Z}$$\n",
    "\n",
    "**LaTeX Code:**"
   ],
   "metadata": {
    "collapsed": false
   },
   "id": "f3460eb8e3287af7"
  },
  {
   "cell_type": "markdown",
   "source": [
    "\n",
    "```\n",
    "\\mathbf{X} = \\mathbf{W} \\mathbf{Z}\n",
    "```"
   ],
   "metadata": {
    "collapsed": false
   },
   "id": "3a910a97c8065067"
  },
  {
   "cell_type": "markdown",
   "source": [
    "\n",
    "## Example 8: Gradient Descent\n",
    "\n",
    "$$\\mathbf{w} := \\mathbf{w} - \\eta \\nabla L(\\mathbf{w})$$\n",
    "\n",
    "**LaTeX Code:**"
   ],
   "metadata": {
    "collapsed": false
   },
   "id": "5e5bc1af3c3eb2"
  },
  {
   "cell_type": "markdown",
   "source": [
    "\n",
    "```\n",
    "\\mathbf{w} := \\mathbf{w} - \\eta \\nabla L(\\mathbf{w})\n",
    "```\n"
   ],
   "metadata": {},
   "id": "183252cffcd65d66"
  },
  {
   "cell_type": "markdown",
   "source": [
    "Bayes Rules:"
   ],
   "metadata": {
    "collapsed": false
   },
   "id": "7a97e7713e8f3230"
  },
  {
   "cell_type": "markdown",
   "source": [
    "\n",
    " \\begin{equation}\n",
    "    P(A \\mid B) = \\frac{P(B \\mid A) \\cdot P(A)}{P(B)}\n",
    "\\end{equation}"
   ],
   "metadata": {
    "collapsed": false
   },
   "id": "e315b76b10585b58"
  },
  {
   "cell_type": "markdown",
   "source": [],
   "metadata": {
    "collapsed": false
   },
   "id": "c92130f5a92690c0"
  },
  {
   "cell_type": "markdown",
   "source": [],
   "metadata": {
    "collapsed": false
   },
   "id": "e43547fcb6ea1c54"
  },
  {
   "cell_type": "markdown",
   "source": [],
   "metadata": {
    "collapsed": false
   },
   "id": "76cb3a1744132c2a"
  },
  {
   "cell_type": "markdown",
   "source": [],
   "metadata": {
    "collapsed": false
   },
   "id": "3e439faaf875b233"
  },
  {
   "cell_type": "markdown",
   "source": [],
   "metadata": {
    "collapsed": false
   },
   "id": "cd0fe0a166a03026"
  },
  {
   "cell_type": "markdown",
   "source": [],
   "metadata": {
    "collapsed": false
   },
   "id": "8bad4b0f68fa2010"
  },
  {
   "cell_type": "code",
   "outputs": [],
   "source": [
    "import re\n",
    "\n",
    "def convert_text_to_latex(text):\n",
    "    # Dictionary to replace common math symbols with LaTeX equivalents\n",
    "    replacements = {\n",
    "        'alpha': r'\\\\alpha',\n",
    "        'beta': r'\\\\beta',\n",
    "        'gamma': r'\\\\gamma',\n",
    "        'delta': r'\\\\delta',\n",
    "        'epsilon': r'\\\\epsilon',\n",
    "        'theta': r'\\\\theta',\n",
    "        'lambda': r'\\\\lambda',\n",
    "        'mu': r'\\\\mu',\n",
    "        'pi': r'\\\\pi',\n",
    "        'sigma': r'\\\\sigma',\n",
    "        'phi': r'\\\\phi',\n",
    "        'omega': r'\\\\omega',\n",
    "        '^2': r'^2',\n",
    "        '^3': r'^3',\n",
    "        '_1': r'_1',\n",
    "        '_2': r'_2',\n",
    "        '_n': r'_n',\n",
    "        'sqrt': r'\\\\sqrt',\n",
    "        'sum': r'\\\\sum',\n",
    "        # Add more replacements as needed\n",
    "    }\n",
    "\n",
    "    # Function to convert basic arithmetic expressions to LaTeX\n",
    "    def convert_math_expressions(text):\n",
    "        # Replace operators with LaTeX equivalents\n",
    "        text = text.replace('+', ' + ')\n",
    "        text = text.replace('-', ' - ')\n",
    "        text = text.replace('*', r' \\\\cdot ')\n",
    "        text = text.replace('/', r' \\\\frac{ }{ } ')\n",
    "        text = text.replace('=', r' = ')\n",
    "\n",
    "        # Replace math symbols using the dictionary\n",
    "        for key, value in replacements.items():\n",
    "            text = re.sub(r'\\b' + re.escape(key) + r'\\b', value, text)\n",
    "\n",
    "        return text\n",
    "\n",
    "    # Handle specific LaTeX formatting\n",
    "    text = convert_math_expressions(text)\n",
    "    text = re.sub(r'\\bint\\b', r'\\\\int', text)  # Convert \"int\" to \"\\int\" for integrals\n",
    "    text = re.sub(r'\\bsum\\b', r'\\\\sum', text)  # Convert \"sum\" to \"\\sum\" for summations\n",
    "\n",
    "    # Add LaTeX environment for equations if needed\n",
    "    text = r'\\[' + text + r'\\]'\n",
    "\n",
    "    return text\n",
    "\n",
    "# Example usage\n",
    "text = \"sum for 1 to n sqrt of 3n\"\n",
    "latex = convert_text_to_latex(text)\n",
    "print(latex)\n"
   ],
   "metadata": {
    "collapsed": false
   },
   "id": "a218e6cc25171aaf"
  },
  {
   "cell_type": "markdown",
   "source": [],
   "metadata": {
    "collapsed": false
   },
   "id": "2fdce4dcd5cdb1b3"
  }
 ],
 "metadata": {
  "kernelspec": {
   "display_name": "Python 3",
   "language": "python",
   "name": "python3"
  },
  "language_info": {
   "codemirror_mode": {
    "name": "ipython",
    "version": 3
   },
   "file_extension": ".py",
   "mimetype": "text/x-python",
   "name": "python",
   "nbconvert_exporter": "python",
   "pygments_lexer": "ipython3",
   "version": "3.8.5"
  }
 },
 "nbformat": 4,
 "nbformat_minor": 5
}
