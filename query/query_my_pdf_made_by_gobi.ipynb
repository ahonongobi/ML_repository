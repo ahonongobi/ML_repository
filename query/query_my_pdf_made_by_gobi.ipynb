{
 "cells": [
  {
   "cell_type": "code",
   "execution_count": 18,
   "id": "initial_id",
   "metadata": {
    "collapsed": true,
    "ExecuteTime": {
     "end_time": "2024-08-19T11:14:33.320848Z",
     "start_time": "2024-08-19T11:14:31.315380Z"
    }
   },
   "outputs": [],
   "source": [
    "import fitz  # PyMuPDF\n",
    "import os\n",
    "from sentence_transformers import SentenceTransformer, util\n",
    "\n",
    "# Initialize the SentenceTransformer model\n",
    "model_name = 'all-MiniLM-L6-v2'\n",
    "model = SentenceTransformer(model_name)\n",
    "\n",
    "\n",
    "def extract_text_from_pdfs(folder_path):\n",
    "    documents = []\n",
    "    for filename in os.listdir(folder_path):\n",
    "        if filename.endswith('.pdf'):\n",
    "            pdf_path = os.path.join(folder_path, filename)\n",
    "            doc = fitz.open(pdf_path)\n",
    "            text = \"\"\n",
    "            for page_num in range(doc.page_count):\n",
    "                page = doc.load_page(page_num)\n",
    "                text += page.get_text(\"text\") + \"\\n\\n\"\n",
    "            documents.append((filename, text))\n",
    "    return documents\n",
    "\n",
    "def preprocess_text(text):\n",
    "    # Basic text cleaning\n",
    "    return text.strip().replace('\\n', ' ')\n",
    "\n",
    "def find_relevant_snippets(query, documents):\n",
    "    query_embedding = model.encode(query, convert_to_tensor=True)\n",
    "    results = []\n",
    "\n",
    "    for filename, text in documents:\n",
    "        paragraphs = text.split('\\n\\n')  # Split text into paragraphs\n",
    "        for paragraph in paragraphs:\n",
    "            paragraph = preprocess_text(paragraph)\n",
    "            if paragraph:\n",
    "                paragraph_embedding = model.encode(paragraph, convert_to_tensor=True)\n",
    "                similarity = util.pytorch_cos_sim(query_embedding, paragraph_embedding).item()\n",
    "                if similarity > 0.3:  # Adjust similarity threshold as needed\n",
    "                    results.append((filename, paragraph, similarity))\n",
    "\n",
    "    # Sort results by similarity score and filter out irrelevant snippets\n",
    "    results = sorted(results, key=lambda x: -x[2])\n",
    "    filtered_results = []\n",
    "    for filename, snippet, similarity in results:\n",
    "        if len(snippet) < 1000:  # Filter out excessively long snippets\n",
    "            filtered_results.append((filename, snippet, similarity))\n",
    "\n",
    "    return filtered_results[:3]  # Return top 3 results\n"
   ]
  },
  {
   "cell_type": "code",
   "outputs": [
    {
     "name": "stdout",
     "output_type": "stream",
     "text": [
      "File: 10.neural_networks_advanced.pdf\n",
      "Similarity: 0.7749\n",
      "Snippet: Other layers • Dropout layer - The layer drops out a random set of activations by setting them  to zero - Rationale:  - makes the network more robust, encourages redundancy - avoids overfitting • Dense - fully connected layer - Can be viewed as a convolution layer with K filters spanning the  full input space - Usually used at the output of the CNN architecture to “use” all  the features provided by the previous layer in order to take a  decision about a class label. 46...\n",
      "==================================================\n",
      "File: 10.neural_networks_advanced.pdf\n",
      "Similarity: 0.5035\n",
      "Snippet: MSE - TSM-DeLearn Master of Science in Engineering Convolution • Convolution is a mathematical concept with a long history of applications in  signal (particularly, image) processing • Core idea: process a larger input over multiple activation, by applying a filter iteratively to smaller areas of the input, scanning rows and columns • Of course where once these filters were handcrafted, in CNNs they are learned through Backpropagation • The size of the model input is independent from data size • Processing a 4K video does not require a network with millions of inputs,  just many applications of a network with e.g. 3× 3 inputs Example of a gaussian blur filter...\n",
      "==================================================\n",
      "File: 10.neural_networks_advanced.pdf\n",
      "Similarity: 0.4890\n",
      "Snippet: MSE - TSM-DeLearn Master of Science in Engineering Wrap-up • Convolutional neural networks - CNN are deep  neural network architectures composed of: - Convolution layers: principle is to convolve filters on the image  with the effect to provide spatial preservation and translation  invariance. A given filter is translated on  receptive fields of the  input and produces as output an activation map. The output of  the layer is usually a “volume” corresponding to several  activation maps. - Max pooling layers: layers that are applied to the activation  maps of a previous layer in order to reduce its spatial dimension. - Dense layers: regular fully connected layers usually used as  the last layers in the architecture to take classification  decisions 49...\n",
      "==================================================\n"
     ]
    }
   ],
   "source": [
    "# Example usage\n",
    "folder_path = \"../../../Slides\"  # Update this path to your folder\n",
    "# query = \"What is the main conceptual differences between the Perceptron algorithm and the SVM algorithm?\"\n",
    "# query = \"What are the Sequence Model Categories?\"\n",
    "query = \"Why do we use dropout layer in convolutional networks?\"\n",
    "documents = extract_text_from_pdfs(folder_path)\n",
    "results = find_relevant_snippets(query, documents)\n",
    "\n",
    "# Display the results\n",
    "for filename, snippet, similarity in results:\n",
    "    print(f\"File: {filename}\")\n",
    "    print(f\"Similarity: {similarity:.4f}\")\n",
    "    print(f\"Snippet: {snippet[:1000]}...\")  # Print only the first 1000 characters of each snippet\n",
    "    print(\"=\" * 50)"
   ],
   "metadata": {
    "collapsed": false,
    "ExecuteTime": {
     "end_time": "2024-08-19T11:45:51.698963Z",
     "start_time": "2024-08-19T11:45:43.045082Z"
    }
   },
   "id": "1f03c686e237d928",
   "execution_count": 25
  },
  {
   "cell_type": "code",
   "outputs": [],
   "source": [],
   "metadata": {
    "collapsed": false
   },
   "id": "728c27765f9de963"
  },
  {
   "cell_type": "markdown",
   "source": [],
   "metadata": {
    "collapsed": false
   },
   "id": "85bb68e6310afbc1"
  },
  {
   "cell_type": "markdown",
   "source": [],
   "metadata": {
    "collapsed": false
   },
   "id": "4e7caf442a36f691"
  },
  {
   "cell_type": "markdown",
   "source": [],
   "metadata": {
    "collapsed": false
   },
   "id": "ec0e98775f375843"
  },
  {
   "cell_type": "markdown",
   "source": [],
   "metadata": {
    "collapsed": false
   },
   "id": "27284b28bb25a556"
  },
  {
   "cell_type": "markdown",
   "source": [],
   "metadata": {
    "collapsed": false
   },
   "id": "a2443561fac93610"
  },
  {
   "cell_type": "markdown",
   "source": [],
   "metadata": {
    "collapsed": false
   },
   "id": "fa1cc8acf7385728"
  },
  {
   "cell_type": "markdown",
   "source": [],
   "metadata": {
    "collapsed": false
   },
   "id": "7d2674a8b1c8af0f"
  },
  {
   "cell_type": "markdown",
   "source": [],
   "metadata": {
    "collapsed": false
   },
   "id": "f44988e7a3ea6203"
  },
  {
   "cell_type": "markdown",
   "source": [],
   "metadata": {
    "collapsed": false
   },
   "id": "699602d1c511f6ed"
  },
  {
   "cell_type": "markdown",
   "source": [],
   "metadata": {
    "collapsed": false
   },
   "id": "b183b4f0b89be3f4"
  },
  {
   "cell_type": "markdown",
   "source": [],
   "metadata": {
    "collapsed": false
   },
   "id": "c1ddde46d82c054f"
  }
 ],
 "metadata": {
  "kernelspec": {
   "display_name": "Python 3",
   "language": "python",
   "name": "python3"
  },
  "language_info": {
   "codemirror_mode": {
    "name": "ipython",
    "version": 2
   },
   "file_extension": ".py",
   "mimetype": "text/x-python",
   "name": "python",
   "nbconvert_exporter": "python",
   "pygments_lexer": "ipython2",
   "version": "2.7.6"
  }
 },
 "nbformat": 4,
 "nbformat_minor": 5
}
