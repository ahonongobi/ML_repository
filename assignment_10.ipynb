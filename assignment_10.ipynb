{
 "cells": [
  {
   "cell_type": "markdown",
   "metadata": {},
   "source": [
    "Please fill in your name and that of your teammate.\n",
    "\n",
    "You: **Ahonon Gobi Parfait**\n",
    "\n",
    "Teammate: (No one available)"
   ]
  },
  {
   "cell_type": "markdown",
   "metadata": {},
   "source": [
    "# Introduction"
   ]
  },
  {
   "cell_type": "markdown",
   "metadata": {},
   "source": [
    "Welcome to the tenth lab. Neural networks are more a class of tools than a single tool, though the foundation you built last week should enable you to understand what is going on here without too much trouble.\n",
    "\n",
    "There is relatively little coding this week, which is unfortunate: we are starting to touch topics that require more than a lab's worth of practice to achieve basic proficiency. Rather than overloading you of work, this week we focus a bit more on foundations and give you time to study; then we should hit more interesting and fun applications over the next lectures with Deep Learning and Reinforcement Learning."
   ]
  },
  {
   "cell_type": "markdown",
   "metadata": {},
   "source": [
    "### How to pass the lab?"
   ]
  },
  {
   "cell_type": "markdown",
   "metadata": {},
   "source": [
    "Below you find the exercise questions. Each question awarding points is numbered and states the number of points like this: **[0pt]**. To answer a question, fill the cell below with your answer (markdown for text, code for implementation). Incorrect or incomplete answers are in principle worth 0 points: to assign partial reward is only up to teacher discretion. Over-complete answers do not award extra points (though they are appreciated and will be kept under consideration). Save your work frequently! (`ctrl+s`)\n",
    "\n",
    "**You need at least 14 points (out of 21 available) to pass** (66%)."
   ]
  },
  {
   "cell_type": "markdown",
   "metadata": {},
   "source": [
    "# 1. Fundamentals"
   ]
  },
  {
   "cell_type": "markdown",
   "metadata": {},
   "source": [
    "#### 1.1 **[1pt]** Explain in English what is the distinctive feature of a residual network."
   ]
  },
  {
   "cell_type": "markdown",
   "metadata": {},
   "source": [
    "The **distinctive feature of a residual network (ResNet)** is the use of skip connections, also known as shortcut connections or residual connections. These connections allow information from earlier layers to bypass several layers and directly connect to deeper layers in the network. By doing so, ResNet addresses the degradation problem encountered in deep neural networks, where adding more layers can lead to decreased performance due to vanishing gradients or the difficulty of training deeper networks. The skip connections in ResNet enable the network to learn residual functions, which are easier to optimize compared to directly learning the underlying mapping. This architecture facilitates the training of very deep networks (hundreds or even thousands of layers) while maintaining or even improving performance."
   ]
  },
  {
   "cell_type": "markdown",
   "metadata": {},
   "source": [
    "#### 1.2 **[2pt]** Write the full equation of a network with structure [2, 4, 1] (same as last week), but this time add (i) biases on all neurons, and (ii) self-recurrent connections only on the hidden layer. How many weights does this network have?"
   ]
  },
  {
   "cell_type": "markdown",
   "metadata": {},
   "source": [
    "- I would suggest starting from your answer from last week, fixing it based on the solution if you need to and have not already, then add what you need.\n",
    "- To avoid changing the indices of the weights, you can simply call bias weights $b$ rather than $w$, and recurrent connections $r$.\n",
    "- The main thing to remember is: each line has the weights entering one destination neuron, and each column refers to one of the inputs to the layer.\n",
    "- Then for a recurrent network, remember to pass the output of all neurons of the same layer (technically representing the previous-step activations, initialized as `0`s) as inputs to each neuron.\n",
    "\n",
    "The network has three layers:\n",
    "- An input layer (no neurons!) with two elements $(x_1, x_2)$\n",
    "- One hidden layer composed of four neurons $(n_1, n_2, n_3, n_4)$\n",
    "- The output layer with only one neuron $(n_5)$\n",
    "\n",
    "We will need to add biases and recurrencies this time: it could be helpful to describe the inputs/outputs for each layer together with the weight matrix. \n",
    "- $X$ is the network input, same as before\n",
    "- Then come the recurrent connections: all the outputs of the neurons of the hidden layer, technically from the previous time step (initialize as zeros)\n",
    "- Finally the bias input, the constant 1 that will be multiplied by the bias weight\n",
    "- $X_{hid}$ is the actual full input to the hidden (and first) layer: all three above\n",
    "- $W_h$ is the weight matrix for ALL the connections entering the hidden layer in the columns, while the rows group the connections entering each neuron\n",
    "- The output can be written with $n_i$ same as we did last time; the don't forget you will need the bias also for the output layer (but no recursion!)\n",
    "- You can call $X_{out}$ the input to the output (and second) layer, and $W_{out}$ its weight matrix.\n",
    "And do not underestimate the value of a quick sketch on a piece of paper! Or head to [draw.io](https://draw.io) if you want a computer drawing that is easy, quick and professional looking.\n",
    "\n",
    "Remember that the output can be interpreted as one scalar, but is in principle a vector with one element (because having only one output is a special case, normally you need a list of outputs here)."
   ]
  },
  {
   "cell_type": "markdown",
   "metadata": {},
   "source": [
    "Let us first, find out X, Xhid, Whid: \n",
    "\n",
    "$$X=\\begin{pmatrix} x_1 \\\\ x_2 \\end{pmatrix}$$\n",
    "$$ Xhid = \\begin{pmatrix} x_1 \\\\ x_2 \\\\ x_3 \\\\ x_4 \\end{pmatrix}$$\n",
    "\n",
    "$$\n",
    "W_{in} = \\begin{pmatrix} \n",
    "w_{1} & w_{2} & b_{1} \\\\\n",
    "w_{3} & w_{4} & b_{2} \\\\\n",
    "w_{5} & w_{6} & b_{3} \\\\\n",
    "w_{7} & w_{8} & b_{4} \\\\\n",
    "r_{3} & r_{4} & b_{5} \\\\\n",
    "\\end{pmatrix}$$\n",
    "\n",
    "$$  \n",
    "Whid = \\begin{pmatrix}\n",
    "w_{9} & w_{10} & w_{11} & w_{12} \\\\\n",
    "r_{1} & r_{2} & r_{3} & r_{4} \\\\\n",
    "b_{1} & b_{2} & b_{3} & b_{4} \\\\\n",
    "\\end{pmatrix} \n",
    "$$\n",
    "$$X_{out} = \\begin{pmatrix} n_5 \\end{pmatrix}$$\n",
    "$$W_{out} = \\begin{pmatrix} w_{1} & w_{2} & w_{3} & w_{4} & b \\end{pmatrix}$$\n",
    "\n",
    "$$nhid = \\sigma(Win*X) = \\begin{pmatrix} \\sigma(w_{1}*x_1 + w_{2}*x_2 + b_{1}) \\\\ \\sigma(w_{3}*x_1 + w_{4}*x_2 + b_{2}) \\\\ \\sigma(w_{5}*x_1 + w_{6}*x_2 + b_{3}) \\\\ \\sigma(w_{7}*x_1 + w_{8}*x_2 + b_{4}) \\end{pmatrix}$$\n",
    "\n",
    "$$\n",
    "nout = \\sigma(w_hid*n_hid) \\\\=  \\sigma(w_{9}*n_1 + w_{10}*n_2 + w_{11}*n_3 + w_{12}*n_4 + b)\n",
    "\\\\ = \\sigma(w_{9}*\\sigma(w_{1}*x_1 + w_{2}*x_2 + b_{1}) + w_{10}*\\sigma(w_{3}*x_1 \n",
    "+ w_{4}*x_2 + b_{2}) + w_{11}*\\sigma(w_{5}*x_1 + w_{6}*x_2 + b_{3}) + w_{12}*\\sigma(w_{7}*x_1 + w_{8}*x_2 + b_{4}) + b)\n",
    "\n",
    "$$\n",
    "\n",
    "Without bias, the network has 12 weights. With bias, the network has 17 weights. With self-recurrent connections, the network has 21 weights."
   ]
  },
  {
   "cell_type": "markdown",
   "metadata": {},
   "source": [
    "#### 1.3 **[2pt]** A neural network has only one layer of two convolutional neurons with identity activation. Below you will find respective kernels $W_1$ and $W_2$ and input $X$. Activate the network on the input by hand showing all calculation. Assume no padding and state explicitly the expected output size."
   ]
  },
  {
   "cell_type": "markdown",
   "metadata": {},
   "source": [
    "It's easier to understand what you need to explain about your calculations if you actually start doing them :) just mark what you actually input in the calculator, what the calculator returns, and what calculation you are confident skipping.\n",
    "\n",
    "$$\n",
    "W_1 = \n",
    "\\begin{pmatrix}\n",
    "-1 & -1 & -1 \\\\\n",
    " 2 &  2 &  2 \\\\\n",
    "-1 & -1 & -1\n",
    "\\end{pmatrix}\n",
    "\\quad,\\quad\n",
    "W_2 = \n",
    "\\begin{pmatrix}\n",
    "-1 & 2 & -1 \\\\\n",
    "-1 & 2 & -1 \\\\\n",
    "-1 & 2 & -1\n",
    "\\end{pmatrix}\n",
    "\\\\\n",
    "X = \n",
    "\\begin{pmatrix}\n",
    "2 & 2 & 2 & 2 & 2 \\\\\n",
    "3 & 3 & 3 & 3 & 3 \\\\\n",
    "1 & 1 & 1 & 1 & 1 \\\\\n",
    "3 & 3 & 3 & 3 & 3 \\\\\n",
    "2 & 2 & 2 & 2 & 2 \n",
    "\\end{pmatrix}\n",
    "$$"
   ]
  },
  {
   "cell_type": "markdown",
   "metadata": {
    "collapsed": false
   },
   "source": [
    "Given the input matrix \\( X \\) of size \\( 5 \\times 5 \\) and the kernels \\( W_1 \\) and \\( W_2 \\) of size \\( 3 \\times 3 \\), the output will be of size \\( (5-3+1) \\times (5-3+1) = 3 \\times 3 \\) for each kernel.  \n",
    "Let's perform the convolution operation for the first kernel \\( W_1 \\) for \\( h \\) at position \\( (0,0) \\): \n",
    "\n",
    "\\[\n",
    "\\begin{align*}\n",
    "&\\begin{pmatrix}\n",
    "-1 & -1 & -1 \\\\\n",
    "2 & 2 & 2 \\\\\n",
    "-1 & -1 & -1\n",
    "\\end{pmatrix} \\circledast \\begin{pmatrix}\n",
    "2 & 2 & 2 \\\\\n",
    "3 & 3 & 3 \\\\\n",
    "1 & 1 & 1\n",
    "\\end{pmatrix} \\\\\n",
    "&= -1 \\times 2 + -1 \\times 2 + -1 \\times 2 + 2 \\times 3 + 2 \\times 3 + 2 \\times 3 + -1 \\times 1 + -1 \\times 1 + -1 \\times 1 \\\\\n",
    "&= -2 - 2 - 2 + 6 + 6 + 6 - 1 - 1 - 1 \\\\\n",
    "&= 9\n",
    "\\end{align*}\n",
    "\\]\n",
    "\n",
    "Now, let's perform the convolution operation for the second kernel \\( W_2 \\) for \\( h \\) at position \\( (0,0) \\):\n",
    "\n",
    "\\[\n",
    "\\begin{align*}\n",
    "&\\begin{pmatrix}\n",
    "-1 & 2 & -1 \\\\\n",
    "-1 & 2 & -1 \\\\\n",
    "-1 & 2 & -1\n",
    "\\end{pmatrix} \\circledast \\begin{pmatrix}\n",
    "2 & 2 & 2 \\\\\n",
    "3 & 3 & 3 \\\\\n",
    "1 & 1 & 1\n",
    "\\end{pmatrix} \\\\\n",
    "&= -1 \\times 2 + 2 \\times 2 + -1 \\times 2 + -1 \\times 3 + 2 \\times 3 + -1 \\times 3 + -1 \\times 1 + 2 \\times 1 + -1 \\times 1 \\\\\n",
    "&= -2 + 4 - 2 - 3 + 6 - 3 - 1 + 2 - 1 \\\\\n",
    "&= 0\n",
    "\\end{align*}\n",
    "\\]\n",
    "\n",
    "Now let us perform the convolution operation for the first kernel \\( W_1 \\) for \\( h \\) at position \\( (0,1) \\):\n",
    "\n",
    "\\[\n",
    "\\begin{align*}\n",
    "&\\begin{pmatrix}\n",
    "-1 & -1 & -1 \\\\\n",
    "2 & 2 & 2 \\\\\n",
    "-1 & -1 & -1\n",
    "\\end{pmatrix} \\circledast \\begin{pmatrix}\n",
    "2 & 2 & 2 \\\\\n",
    "3 & 3 & 3 \\\\\n",
    "1 & 1 & 1\n",
    "\\end{pmatrix} \\\\\n",
    "&= -1 \\times 2 + -1 \\times 2 + -1 \\times 2 + 2 \\times 3 + 2 \\times 3 + 2 \\times 3 + -1 \\times 1 + -1 \\times 1 + -1 \\times 1 \\\\\n",
    "&= -2 - 2 - 2 + 6 + 6 + 6 - 1 - 1 - 1 \\\\\n",
    "&= 9\n",
    "\\end{align*}\n",
    "\\]\n",
    "\n",
    "Now let us perform the convolution operation for the second kernel \\( W_2 \\) for \\( h \\) at position \\( (0,1) \\):\n",
    "\n",
    "\\[\n",
    "\\begin{align*}\n",
    "&\\begin{pmatrix}\n",
    "-1 & 2 & -1 \\\\\n",
    "-1 & 2 & -1 \\\\\n",
    "-1 & 2 & -1\n",
    "\\end{pmatrix} \\circledast \\begin{pmatrix}\n",
    "2 & 2 & 2 \\\\\n",
    "3 & 3 & 3 \\\\\n",
    "1 & 1 & 1\n",
    "\\end{pmatrix} \\\\\n",
    "&= -1 \\times 2 + 2 \\times 2 + -1 \\times 2 + -1 \\times 3 + 2 \\times 3 + -1 \\times 3 + -1 \\times 1 + 2 \\times 1 + -1 \\times 1 \\\\\n",
    "&= -2 + 4 - 2 - 3 + 6 - 3 - 1 + 2 - 1 \\\\\n",
    "&= 0\n",
    "\\end{align*}\n",
    "\\]\n",
    "\n",
    "Position \\( (0,2) \\) for \\( W_1 \\) and \\( W_2 \\) will be 9 and 0 respectively.\n",
    "\n",
    "Position \\( (1,0) \\) for \\( W_1 \\): \n",
    "\\[\n",
    "\\begin{align*}\n",
    "&\\begin{pmatrix}\n",
    "-1 & -1 & -1 \\\\\n",
    "2 & 2 & 2 \\\\\n",
    "-1 & -1 & -1\n",
    "\\end{pmatrix} \\circledast \\begin{pmatrix}\n",
    "3 & 3 & 3 \\\\\n",
    "1 & 1 & 1 \\\\\n",
    "3 & 3 & 3\n",
    "\\end{pmatrix} \\\\\n",
    "&= -1 \\times 3 + -1 \\times 3 + -1 \\times 3 + 2 \\times 1 + 2 \\times 1 + 2 \\times 1 + -1 \\times 3 + -1 \\times 3 + -1 \\times 3 \\\\\n",
    "&= -3 - 3 - 3 + 2 + 2 + 2 - 3 - 3 - 3 \\\\\n",
    "&= -12\n",
    "\\end{align*}\n",
    "\\]\n",
    "** Same for Position \\( (1,1) \\) and \\( (1,2) \\) for \\( W_1 \\). **\n",
    "\n",
    "Position \\( (1,0) \\) for \\( W_2 \\):\n",
    "\n",
    "\\[\n",
    "\\begin{align*}\n",
    "&\\begin{pmatrix}\n",
    "-1 & 2 & -1 \\\\\n",
    "-1 & 2 & -1 \\\\\n",
    "-1 & 2 & -1\n",
    "\\end{pmatrix} \\circledast \\begin{pmatrix}\n",
    "3 & 3 & 3 \\\\\n",
    "1 & 1 & 1 \\\\\n",
    "3 & 3 & 3\n",
    "\\end{pmatrix} \\\\\n",
    "&= -1 \\times 3 + 2 \\times 3 + -1 \\times 3 + -1 \\times 1 + 2 \\times 1 + -1 \\times 1 + -1 \\times 3 + 2 \\times 3 + -1 \\times 3 \\\\\n",
    "&= -3 + 6 - 3 \\\\\n",
    "&= 0\n",
    "\\end{align*}\n",
    "\\]\n",
    "** Same for Position \\( (1,1) \\) and \\( (1,2) \\) for \\( W_2 \\). **\n",
    "\n",
    "Position \\( (2,0) \\) for \\( W_1 \\):\n",
    "\n",
    "\\[\n",
    "\\begin{align*}\n",
    "&\\begin{pmatrix}\n",
    "-1 & -1 & -1 \\\\\n",
    "2 & 2 & 2 \\\\\n",
    "-1 & -1 & -1\n",
    "\\end{pmatrix} \\circledast \\begin{pmatrix}\n",
    "1 & 1 & 1 \\\\\n",
    "3 & 3 & 3 \\\\\n",
    "2 & 2 & 2\n",
    "\\end{pmatrix} \\\\\n",
    "&= -1 \\times 1 + -1 \\times 1 + -1 \\times 1 + 2 \\times 3 + 2 \\times 3 + 2 \\times 3 + -1 \\times 2 + -1 \\times 2 + -1 \\times 2 \\\\\n",
    "&= -1 - 1 - 1 + 6 + 6 + 6 - 2 - 2 - 2 \\\\\n",
    "&= 9\n",
    "\\end{align*}\n",
    "\\]\n",
    "** Same for Position \\( (2,1) \\) and \\( (2,2) \\) for \\( W_1 \\). **\n",
    "\n",
    "Position \\( (2,0) \\) for \\( W_2 \\):\n",
    "\n",
    "\\[\n",
    "\\begin{align*}\n",
    "&\\begin{pmatrix}\n",
    "-1 & 2 & -1 \\\\\n",
    "-1 & 2 & -1 \\\\\n",
    "-1 & 2 & -1\n",
    "\\end{pmatrix} \\circledast \\begin{pmatrix}\n",
    "1 & 1 & 1 \\\\\n",
    "3 & 3 & 3 \\\\\n",
    "2 & 2 & 2\n",
    "\\end{pmatrix} \\\\\n",
    "&= -1 \\times 1 + 2 \\times 1 + -1 \\times 1 + -1 \\times 3 + 2 \\times 3 + -1 \\times 3 + -1 \\times 2 + 2 \\times 2 + -1 \\times 2 \\\\\n",
    "&= -1 + 2 - 1 - 3 + 6 - 3 - 2 + 4 - 2 \\\\\n",
    "&= 0\n",
    "\\end{align*}\n",
    "\\]\n",
    "** Same for Position $\\( (2,1) \\)$ and $\\( (2,2) \\)$ for $\\( W_2 \\)$. **\n",
    "\n",
    "The expected output size is \\( 3 \\times 3 \\) for each kernel.\n",
    "\n",
    "we have the following matrix for the output of the first kernel $\\( W_1 \\)$:\n",
    "\\[ \\begin{pmatrix} 9 & 9  & 9 \\\\ -12 & -12 & -12 \\\\ 9 & 9 & 9 \\end{pmatrix} \\]\n",
    "\n",
    "and the following matrix for the output of the second kernel $\\( W_2 \\)$:\n",
    "\\[ \\begin{pmatrix} 0 & 0 & 0 \\\\ 0 & 0 & 0 \\\\ 0 & 0 & 0 \\end{pmatrix} \\]\n"
   ]
  },
  {
   "cell_type": "markdown",
   "metadata": {},
   "source": [
    "#### 1.4 **[2pt]** Look at the activations of the two neurons from 1.3 and discuss why they are so different. Explain in particular the regularities both in the inputs and in the kernels. Then go one step further and explain, to the best of your understanding, which types of features are detected by the two kernels."
   ]
  },
  {
   "cell_type": "markdown",
   "metadata": {},
   "source": [
    "- This is another open question: as long as you do not write anything wrong, while showing competence and intuition, you will get the points.\n",
    "- Hint: focus on thinking about the _patterns_ that you can see by eye both in the data matrix and in the kernels. Try to go for an intuitive answer."
   ]
  },
  {
   "cell_type": "markdown",
   "metadata": {},
   "source": [
    "The activations obtained from the two neurons reflect the distinct patterns they are sensitive to, as determined by their respective kernels $ W_1 $ and $ W_2 $. For the activations produced by $ W_1 $, we observe high values (9) in regions where smooth transitions or gradients are present in the input matrix $ X $. This suggests that $ W_1 $ detects features related to smooth transitions or gradients. Conversely, $ W_2 $ produces activations with values of 0 throughout, indicating a lack of response to the input patterns. This aligns with the interpretation that $ W_2 $ is more sensitive to edges or abrupt changes in the input, which might not be prevalent in $ X $. This interpretation is supported by the structure of the kernels themselves: $ W_1 $ is configured to detect gradual changes due to its uniform weights, while $ W_2 $ is designed to respond to sharp transitions with alternating weights. Therefore, the differences in activations between the two neurons can be attributed to the distinct feature detection capabilities encoded in their respective kernels.\n"
   ]
  },
  {
   "cell_type": "markdown",
   "metadata": {},
   "source": [
    "#### 1.5 **[1pt]** Activate a $3x3$ max pooling layer on the outputs of the two convolutions from your answer to question 1.3. Assume no padding."
   ]
  },
  {
   "cell_type": "markdown",
   "metadata": {},
   "source": [
    "Let's perform max pooling on the outputs of the two convolutions from the previous question. The max pooling operation involves dividing the input into non-overlapping regions of a specified size (in this case, $3 \\times 3$) and selecting the maximum value within each region. The output size will be reduced by a factor of the pooling size, which is $3 \\times 3$ in this case.\n",
    "\n",
    "For the output of the first kernel $ W_1 $:\n",
    "\\[ \\begin{pmatrix} 9 & 9  & 9 \\\\ -12 & -12 & -12 \\\\ 9 & 9 & 9 \\end{pmatrix} \\]\n",
    "\n",
    "The max pooling operation will yield the following output:\n",
    "\\[ \\begin{pmatrix} 9 \\end{pmatrix} \\]\n",
    "\n",
    "For the output of the second kernel $ W_2 $:\n",
    "\\[ \\begin{pmatrix} 0 & 0 & 0 \\\\ 0 & 0 & 0 \\\\ 0 & 0 & 0 \\end{pmatrix} \\]\n",
    "\n",
    "The max pooling operation will yield the following output:\n",
    "\\[ \\begin{pmatrix} 0 \\end{pmatrix} \\]\n",
    "\n",
    "The output of the max pooling layer for both kernels is a single value, which represents the maximum activation value within the $3 \\times 3$ region of the input matrix. This operation helps to downsample the feature maps and retain the most salient features for further processing in the network."
   ]
  },
  {
   "cell_type": "markdown",
   "metadata": {},
   "source": [
    "#### 1.6 **[1pt]** Explain in one sentence what is an autoencoder. Why do autoencoders have an hourglass shape? Could you design an autoencoder with a different shape?"
   ]
  },
  {
   "cell_type": "markdown",
   "metadata": {},
   "source": [
    "An autoencoder is a type of neural network architecture designed to learn efficient representations of input data by training the network to reconstruct its own inputs, typically consisting of an encoder and a decoder; **autoencoders have an hourglass** shape because they first compress the input data into a lower-dimensional latent space (encoder) and then reconstruct the original input from this compressed representation (decoder), resembling an hourglass in structure; **while the hourglass shape is common** due to its effectiveness in learning hierarchical representations, alternative shapes could be designed depending on specific requirements, such as expanding or contracting structures to accommodate different data distributions or task objectives."
   ]
  },
  {
   "cell_type": "markdown",
   "metadata": {},
   "source": [
    "# 2. Recurrent Neural Networks"
   ]
  },
  {
   "cell_type": "markdown",
   "metadata": {},
   "source": [
    "#### 2.1 **[3pt]** Below is last week's implementation of a neural network augmented into a fully-connected RNN with bias connections. Fix it by writing the missing code as marked by `?`."
   ]
  },
  {
   "cell_type": "markdown",
   "metadata": {},
   "source": [
    "- Unless otherwise stated, a RNN has fully-connected self-recurrent connections on each layer.\n",
    "- You should know exactly which connections to add if you answered the RNN question in the fundamentals.\n",
    "- For the bias: remember that you need all elements in `state` to be longer by one element: put actual `1`s in these last positions at initialization, then never touch them again.\n",
    "- Recurrencies: you need to make space in the input to each layer for its own output. I typically sort them as [input, recurrencies, bias], but order is not important: consistency is. Make sure all your sizes are correct.\n",
    "- When calculating the size of an input now you need to use `struct` twice: once for the size of the layer entering (something like `struct[nlay]`) and once for the size of the output that goes back as input in the recursion (hence `struct[nlay+1]`). HINT: to make the pairs for each layer execute and understand the following: `zip(struct, struct[1:])`\n",
    "- When you activate a layer remember to copy the activation to both (i) its output and (ii) its input, at the correct indices.\n",
    "- It's easier to compute the size of each input beforehand, then use it to make the `state` list. Then for each weight matrix you can take the number of rows from the structure (as before), and the number of inputs from the `state` sizes.  Don't worry about duplicating the activation in the layer's input, it's actually faster because you have a ready numpy array rather than composing at activation.\n",
    "- Remember to initialize the recurrent output to `0`. Simplest way is to initialize `state` using `np.zeros()` instead of `np.empty()`. Then set the last value of each `state` element to `1` for the bias.\n",
    "- I used myself `import IPython; IPython.embed()` heavily to get this to work. You can also call (once!) `%pdb` to drop in the debugger on error. Keep calm and check the dimensions.\n",
    "- The layer activation function should change because you are saving the activation to two locations (and at specific indices, not direct substitution like before), but the network activation function should change just marginally (add indices to insert input in state)\n",
    "- To _convolve_ with stride 1 and no padding a window of size two on a 1D list (take a pair at a time, advance by one) in Python you can use `zip(lst, lst[1:])`.\n",
    "- This question only refers to neural networks, not learning algorithm, so leave backpropagation out and do not worry about unrolling the network.\n",
    "- Again activate it on a simple input to verify everything is works. The input should be exactly the same as last week's (as the network architecture).\n",
    "- Think: how many weights do you expect to have? Remember that you have 3 matrices (for the 3 layers of neurons), in each the number of rows is unchanged (because you have one per each neuron) but the inputs now are not only connections from the previous layer, you also have recursion (take the output of this layer as its own input) and bias (constant 1 appended to the inputs).\n",
    "<!-- Secret hint: my tally is (4+3+1)*3 + (3+4+1)*4 + (4+3+1)*3 -->"
   ]
  },
  {
   "cell_type": "code",
   "execution_count": 1,
   "metadata": {
    "ExecuteTime": {
     "end_time": "2024-05-12T12:32:05.384523Z",
     "start_time": "2024-05-12T12:32:05.376763Z"
    }
   },
   "outputs": [],
   "source": []
  },
  {
   "cell_type": "code",
   "outputs": [],
   "source": [],
   "metadata": {
    "collapsed": false
   }
  },
  {
   "cell_type": "code",
   "execution_count": 2,
   "metadata": {
    "ExecuteTime": {
     "end_time": "2024-05-12T12:32:05.397364Z",
     "start_time": "2024-05-12T12:32:05.385301Z"
    }
   },
   "outputs": [],
   "source": [
    "struct = [4,5,4,3]\n",
    "inputs = [3,2,4,3]\n",
    "\n",
    "net = RecurrentNeuralNetwork(struct)\n",
    "# We expect the activation to change this time upon multiple calls on the same input\n",
    "# This is because the `state` of the RNN is maintained in the recurrent connections\n",
    "#print(\"activation 1:\", net.act_net(np.array(inputs)))\n",
    "#print(\"activation 2:\", net.act_net(np.array(inputs)))\n",
    "#print(\"activation 3:\", net.act_net(np.array(inputs)))"
   ]
  },
  {
   "cell_type": "markdown",
   "metadata": {},
   "source": [
    "# 3. Convolutional Networks"
   ]
  },
  {
   "cell_type": "markdown",
   "metadata": {},
   "source": [
    "#### 1.1 **[2pt]** Write a Python function for 2D convolution, then run it on a randomly generated input matrix and show the output.\n",
    "\n",
    "- You need to write a function that takes a 2D input and a function to convolve as parameters, then convolves the function over the inputs to produce the output.\n",
    "- The window size is not specified: you can use a 3x3 to keep it simple since you saw that in the examples.\n",
    "- The function to convolve is not specified: no need for it to be a neural network, something as simple as `sum` or a quick lambda calling the numpy `x.sum()` would work perfectly well. Remember that the important part is that it should take a high-dimensional (3x3?) input and output only one value.\n",
    "- The size of the input matrix is not specified: with a 3x3 mask we could go as small as 5x5 with no padding and that would still show that the convolution works.\n",
    "- Then remember: the neural networks are just other functions than `sum`, but behave exactly the same way. Convolving a neural network only allows you to learn the function rather than hardcoding it, but the convolution process is independent.\n",
    "- Answer the question until the end: show that you know how to create a matrix of random numbers, and of the right size."
   ]
  },
  {
   "cell_type": "code",
   "execution_count": 3,
   "metadata": {
    "ExecuteTime": {
     "end_time": "2024-05-12T12:32:05.403342Z",
     "start_time": "2024-05-12T12:32:05.398037Z"
    }
   },
   "outputs": [
    {
     "name": "stdout",
     "output_type": "stream",
     "text": [
      "Input Matrix:\n",
      "[[0.89933037 0.84612112 0.76461438 0.27086332 0.35881241]\n",
      " [0.24679193 0.69397796 0.02621576 0.42614078 0.90669923]\n",
      " [0.17279905 0.08730483 0.28421232 0.73485222 0.14515365]\n",
      " [0.99568334 0.27412354 0.52223538 0.22364766 0.0669752 ]\n",
      " [0.52444881 0.31501131 0.61389935 0.80027802 0.02979726]]\n",
      "\n",
      "Output Matrix after 2D Convolution:\n",
      "[[4.02136771 4.13430268 3.91756406]\n",
      " [3.30334409 3.27271043 3.33613219]\n",
      " [3.78971792 3.85556462 3.42105106]]\n"
     ]
    }
   ],
   "source": [
    "import numpy as np\n",
    "\n",
    "def convolve_2d(input_matrix, conv_function):\n",
    "    # Get input matrix dimensions\n",
    "    height, width = input_matrix.shape\n",
    "\n",
    "    # Initialize output matrix\n",
    "    output_matrix = np.zeros((height - 2, width - 2))\n",
    "\n",
    "    # Iterate over the input matrix\n",
    "    for i in range(1, height - 1):\n",
    "        for j in range(1, width - 1):\n",
    "            # Extract 3x3 window from input matrix\n",
    "            window = input_matrix[i-1:i+2, j-1:j+2]\n",
    "\n",
    "            # Apply convolution function to window and store result in output matrix\n",
    "            output_matrix[i-1, j-1] = conv_function(window)\n",
    "\n",
    "    return output_matrix\n",
    "\n",
    "# Simple convolution function: sum of the window\n",
    "simple_conv_function = lambda window: np.sum(window)\n",
    "\n",
    "# Generate a random 5x5 input matrix\n",
    "input_matrix = np.random.rand(5, 5)\n",
    "\n",
    "# Perform 2D convolution\n",
    "output_matrix = convolve_2d(input_matrix, simple_conv_function)\n",
    "\n",
    "print(\"Input Matrix:\")\n",
    "print(input_matrix)\n",
    "print(\"\\nOutput Matrix after 2D Convolution:\")\n",
    "print(output_matrix)"
   ]
  },
  {
   "cell_type": "markdown",
   "metadata": {},
   "source": [
    "# 4. Handwritten digit recognition with Keras"
   ]
  },
  {
   "cell_type": "markdown",
   "metadata": {},
   "source": [
    "As mentioned at the beginning, we need to cross a gap in exercise complexity. On one hand you are ready to understand the inner work of a DL library like Keras, on the other asking you for such a task on top of today's lecture is too much even for this course :) So let's leave the creative part for next weeks, where we will see some more advanced applications anyway, and focus today on what we learned and on a new skill: how to justify your code.\n",
    "\n",
    "Below is a tutorial from the Keras website on convolutional networks [[source]](https://keras.io/examples/vision/mnist_convnet/). It uses the [MNIST dataset](https://en.wikipedia.org/wiki/MNIST_database), a standard dataset for handwritten character recognition. Keras offers you a backend to automatically download the dataset, similarly to what we did so far with Seaborn and Iris.\n",
    "\n",
    "The code should work as is (did you `pipenv install tensorflow keras`?), but take a while to run. Read it line by line, really study and understand it, feel free to change it so that it runs in few seconds if you wish to play with it; then answer the questions below.\n",
    "\n",
    "NOTE: you don't need to run the code to answer any of the questions below. If you used PyTorch at the last lecture, this is your chance to try out Keras. If you cannot (looking at you M1 users), you can use Colab for this assignment, or replace the Keras tutorial with a PyTorch equivalent [such as this](https://pythonguides.com/pytorch-mnist/). This only affects 4.3, while 4.1 and 4.2 should be fine."
   ]
  },
  {
   "cell_type": "code",
   "execution_count": 4,
   "metadata": {
    "ExecuteTime": {
     "end_time": "2024-05-12T12:35:06.394082Z",
     "start_time": "2024-05-12T12:32:05.404295Z"
    }
   },
   "outputs": [
    {
     "name": "stderr",
     "output_type": "stream",
     "text": [
      "2024-05-12 14:32:05.631715: I tensorflow/core/platform/cpu_feature_guard.cc:210] This TensorFlow binary is optimized to use available CPU instructions in performance-critical operations.\n",
      "To enable the following instructions: AVX2 FMA, in other operations, rebuild TensorFlow with the appropriate compiler flags.\n",
      "2024-05-12 14:32:06.437616: W tensorflow/compiler/tf2tensorrt/utils/py_utils.cc:38] TF-TRT Warning: Could not find TensorRT\n"
     ]
    },
    {
     "name": "stdout",
     "output_type": "stream",
     "text": [
      "x_train shape: (60000, 28, 28, 1)\n",
      "60000 train samples\n",
      "10000 test samples\n"
     ]
    },
    {
     "name": "stderr",
     "output_type": "stream",
     "text": [
      "2024-05-12 14:32:07.249084: I external/local_xla/xla/stream_executor/cuda/cuda_diagnostics.cc:134] retrieving CUDA diagnostic information for host: gobi-ROG-Zephyrus-M15-GU502LW-GU502LW\n",
      "2024-05-12 14:32:07.249100: I external/local_xla/xla/stream_executor/cuda/cuda_diagnostics.cc:141] hostname: gobi-ROG-Zephyrus-M15-GU502LW-GU502LW\n",
      "2024-05-12 14:32:07.249164: I external/local_xla/xla/stream_executor/cuda/cuda_diagnostics.cc:165] libcuda reported version is: NOT_FOUND: was unable to find libcuda.so DSO loaded into this program\n",
      "2024-05-12 14:32:07.249188: I external/local_xla/xla/stream_executor/cuda/cuda_diagnostics.cc:169] kernel reported version is: 535.171.4\n"
     ]
    },
    {
     "data": {
      "text/plain": "\u001B[1mModel: \"sequential\"\u001B[0m\n",
      "text/html": "<pre style=\"white-space:pre;overflow-x:auto;line-height:normal;font-family:Menlo,'DejaVu Sans Mono',consolas,'Courier New',monospace\"><span style=\"font-weight: bold\">Model: \"sequential\"</span>\n</pre>\n"
     },
     "metadata": {},
     "output_type": "display_data"
    },
    {
     "data": {
      "text/plain": "┏━━━━━━━━━━━━━━━━━━━━━━━━━━━━━━━━━┳━━━━━━━━━━━━━━━━━━━━━━━━┳━━━━━━━━━━━━━━━┓\n┃\u001B[1m \u001B[0m\u001B[1mLayer (type)                   \u001B[0m\u001B[1m \u001B[0m┃\u001B[1m \u001B[0m\u001B[1mOutput Shape          \u001B[0m\u001B[1m \u001B[0m┃\u001B[1m \u001B[0m\u001B[1m      Param #\u001B[0m\u001B[1m \u001B[0m┃\n┡━━━━━━━━━━━━━━━━━━━━━━━━━━━━━━━━━╇━━━━━━━━━━━━━━━━━━━━━━━━╇━━━━━━━━━━━━━━━┩\n│ conv2d (\u001B[38;5;33mConv2D\u001B[0m)                 │ (\u001B[38;5;45mNone\u001B[0m, \u001B[38;5;34m26\u001B[0m, \u001B[38;5;34m26\u001B[0m, \u001B[38;5;34m32\u001B[0m)     │           \u001B[38;5;34m320\u001B[0m │\n├─────────────────────────────────┼────────────────────────┼───────────────┤\n│ max_pooling2d (\u001B[38;5;33mMaxPooling2D\u001B[0m)    │ (\u001B[38;5;45mNone\u001B[0m, \u001B[38;5;34m13\u001B[0m, \u001B[38;5;34m13\u001B[0m, \u001B[38;5;34m32\u001B[0m)     │             \u001B[38;5;34m0\u001B[0m │\n├─────────────────────────────────┼────────────────────────┼───────────────┤\n│ conv2d_1 (\u001B[38;5;33mConv2D\u001B[0m)               │ (\u001B[38;5;45mNone\u001B[0m, \u001B[38;5;34m11\u001B[0m, \u001B[38;5;34m11\u001B[0m, \u001B[38;5;34m64\u001B[0m)     │        \u001B[38;5;34m18,496\u001B[0m │\n├─────────────────────────────────┼────────────────────────┼───────────────┤\n│ max_pooling2d_1 (\u001B[38;5;33mMaxPooling2D\u001B[0m)  │ (\u001B[38;5;45mNone\u001B[0m, \u001B[38;5;34m5\u001B[0m, \u001B[38;5;34m5\u001B[0m, \u001B[38;5;34m64\u001B[0m)       │             \u001B[38;5;34m0\u001B[0m │\n├─────────────────────────────────┼────────────────────────┼───────────────┤\n│ flatten (\u001B[38;5;33mFlatten\u001B[0m)               │ (\u001B[38;5;45mNone\u001B[0m, \u001B[38;5;34m1600\u001B[0m)           │             \u001B[38;5;34m0\u001B[0m │\n├─────────────────────────────────┼────────────────────────┼───────────────┤\n│ dropout (\u001B[38;5;33mDropout\u001B[0m)               │ (\u001B[38;5;45mNone\u001B[0m, \u001B[38;5;34m1600\u001B[0m)           │             \u001B[38;5;34m0\u001B[0m │\n├─────────────────────────────────┼────────────────────────┼───────────────┤\n│ dense (\u001B[38;5;33mDense\u001B[0m)                   │ (\u001B[38;5;45mNone\u001B[0m, \u001B[38;5;34m10\u001B[0m)             │        \u001B[38;5;34m16,010\u001B[0m │\n└─────────────────────────────────┴────────────────────────┴───────────────┘\n",
      "text/html": "<pre style=\"white-space:pre;overflow-x:auto;line-height:normal;font-family:Menlo,'DejaVu Sans Mono',consolas,'Courier New',monospace\">┏━━━━━━━━━━━━━━━━━━━━━━━━━━━━━━━━━┳━━━━━━━━━━━━━━━━━━━━━━━━┳━━━━━━━━━━━━━━━┓\n┃<span style=\"font-weight: bold\"> Layer (type)                    </span>┃<span style=\"font-weight: bold\"> Output Shape           </span>┃<span style=\"font-weight: bold\">       Param # </span>┃\n┡━━━━━━━━━━━━━━━━━━━━━━━━━━━━━━━━━╇━━━━━━━━━━━━━━━━━━━━━━━━╇━━━━━━━━━━━━━━━┩\n│ conv2d (<span style=\"color: #0087ff; text-decoration-color: #0087ff\">Conv2D</span>)                 │ (<span style=\"color: #00d7ff; text-decoration-color: #00d7ff\">None</span>, <span style=\"color: #00af00; text-decoration-color: #00af00\">26</span>, <span style=\"color: #00af00; text-decoration-color: #00af00\">26</span>, <span style=\"color: #00af00; text-decoration-color: #00af00\">32</span>)     │           <span style=\"color: #00af00; text-decoration-color: #00af00\">320</span> │\n├─────────────────────────────────┼────────────────────────┼───────────────┤\n│ max_pooling2d (<span style=\"color: #0087ff; text-decoration-color: #0087ff\">MaxPooling2D</span>)    │ (<span style=\"color: #00d7ff; text-decoration-color: #00d7ff\">None</span>, <span style=\"color: #00af00; text-decoration-color: #00af00\">13</span>, <span style=\"color: #00af00; text-decoration-color: #00af00\">13</span>, <span style=\"color: #00af00; text-decoration-color: #00af00\">32</span>)     │             <span style=\"color: #00af00; text-decoration-color: #00af00\">0</span> │\n├─────────────────────────────────┼────────────────────────┼───────────────┤\n│ conv2d_1 (<span style=\"color: #0087ff; text-decoration-color: #0087ff\">Conv2D</span>)               │ (<span style=\"color: #00d7ff; text-decoration-color: #00d7ff\">None</span>, <span style=\"color: #00af00; text-decoration-color: #00af00\">11</span>, <span style=\"color: #00af00; text-decoration-color: #00af00\">11</span>, <span style=\"color: #00af00; text-decoration-color: #00af00\">64</span>)     │        <span style=\"color: #00af00; text-decoration-color: #00af00\">18,496</span> │\n├─────────────────────────────────┼────────────────────────┼───────────────┤\n│ max_pooling2d_1 (<span style=\"color: #0087ff; text-decoration-color: #0087ff\">MaxPooling2D</span>)  │ (<span style=\"color: #00d7ff; text-decoration-color: #00d7ff\">None</span>, <span style=\"color: #00af00; text-decoration-color: #00af00\">5</span>, <span style=\"color: #00af00; text-decoration-color: #00af00\">5</span>, <span style=\"color: #00af00; text-decoration-color: #00af00\">64</span>)       │             <span style=\"color: #00af00; text-decoration-color: #00af00\">0</span> │\n├─────────────────────────────────┼────────────────────────┼───────────────┤\n│ flatten (<span style=\"color: #0087ff; text-decoration-color: #0087ff\">Flatten</span>)               │ (<span style=\"color: #00d7ff; text-decoration-color: #00d7ff\">None</span>, <span style=\"color: #00af00; text-decoration-color: #00af00\">1600</span>)           │             <span style=\"color: #00af00; text-decoration-color: #00af00\">0</span> │\n├─────────────────────────────────┼────────────────────────┼───────────────┤\n│ dropout (<span style=\"color: #0087ff; text-decoration-color: #0087ff\">Dropout</span>)               │ (<span style=\"color: #00d7ff; text-decoration-color: #00d7ff\">None</span>, <span style=\"color: #00af00; text-decoration-color: #00af00\">1600</span>)           │             <span style=\"color: #00af00; text-decoration-color: #00af00\">0</span> │\n├─────────────────────────────────┼────────────────────────┼───────────────┤\n│ dense (<span style=\"color: #0087ff; text-decoration-color: #0087ff\">Dense</span>)                   │ (<span style=\"color: #00d7ff; text-decoration-color: #00d7ff\">None</span>, <span style=\"color: #00af00; text-decoration-color: #00af00\">10</span>)             │        <span style=\"color: #00af00; text-decoration-color: #00af00\">16,010</span> │\n└─────────────────────────────────┴────────────────────────┴───────────────┘\n</pre>\n"
     },
     "metadata": {},
     "output_type": "display_data"
    },
    {
     "data": {
      "text/plain": "\u001B[1m Total params: \u001B[0m\u001B[38;5;34m34,826\u001B[0m (136.04 KB)\n",
      "text/html": "<pre style=\"white-space:pre;overflow-x:auto;line-height:normal;font-family:Menlo,'DejaVu Sans Mono',consolas,'Courier New',monospace\"><span style=\"font-weight: bold\"> Total params: </span><span style=\"color: #00af00; text-decoration-color: #00af00\">34,826</span> (136.04 KB)\n</pre>\n"
     },
     "metadata": {},
     "output_type": "display_data"
    },
    {
     "data": {
      "text/plain": "\u001B[1m Trainable params: \u001B[0m\u001B[38;5;34m34,826\u001B[0m (136.04 KB)\n",
      "text/html": "<pre style=\"white-space:pre;overflow-x:auto;line-height:normal;font-family:Menlo,'DejaVu Sans Mono',consolas,'Courier New',monospace\"><span style=\"font-weight: bold\"> Trainable params: </span><span style=\"color: #00af00; text-decoration-color: #00af00\">34,826</span> (136.04 KB)\n</pre>\n"
     },
     "metadata": {},
     "output_type": "display_data"
    },
    {
     "data": {
      "text/plain": "\u001B[1m Non-trainable params: \u001B[0m\u001B[38;5;34m0\u001B[0m (0.00 B)\n",
      "text/html": "<pre style=\"white-space:pre;overflow-x:auto;line-height:normal;font-family:Menlo,'DejaVu Sans Mono',consolas,'Courier New',monospace\"><span style=\"font-weight: bold\"> Non-trainable params: </span><span style=\"color: #00af00; text-decoration-color: #00af00\">0</span> (0.00 B)\n</pre>\n"
     },
     "metadata": {},
     "output_type": "display_data"
    },
    {
     "name": "stdout",
     "output_type": "stream",
     "text": [
      "Epoch 1/15\n"
     ]
    },
    {
     "name": "stderr",
     "output_type": "stream",
     "text": [
      "2024-05-12 14:32:07.430235: W external/local_tsl/tsl/framework/cpu_allocator_impl.cc:83] Allocation of 169344000 exceeds 10% of free system memory.\n"
     ]
    },
    {
     "name": "stdout",
     "output_type": "stream",
     "text": [
      "\u001B[1m422/422\u001B[0m \u001B[32m━━━━━━━━━━━━━━━━━━━━\u001B[0m\u001B[37m\u001B[0m \u001B[1m11s\u001B[0m 25ms/step - accuracy: 0.7670 - loss: 0.7489 - val_accuracy: 0.9762 - val_loss: 0.0827\n",
      "Epoch 2/15\n",
      "\u001B[1m422/422\u001B[0m \u001B[32m━━━━━━━━━━━━━━━━━━━━\u001B[0m\u001B[37m\u001B[0m \u001B[1m11s\u001B[0m 26ms/step - accuracy: 0.9644 - loss: 0.1178 - val_accuracy: 0.9817 - val_loss: 0.0585\n",
      "Epoch 3/15\n",
      "\u001B[1m422/422\u001B[0m \u001B[32m━━━━━━━━━━━━━━━━━━━━\u001B[0m\u001B[37m\u001B[0m \u001B[1m10s\u001B[0m 25ms/step - accuracy: 0.9723 - loss: 0.0884 - val_accuracy: 0.9853 - val_loss: 0.0499\n",
      "Epoch 4/15\n",
      "\u001B[1m422/422\u001B[0m \u001B[32m━━━━━━━━━━━━━━━━━━━━\u001B[0m\u001B[37m\u001B[0m \u001B[1m11s\u001B[0m 26ms/step - accuracy: 0.9770 - loss: 0.0747 - val_accuracy: 0.9872 - val_loss: 0.0411\n",
      "Epoch 5/15\n",
      "\u001B[1m422/422\u001B[0m \u001B[32m━━━━━━━━━━━━━━━━━━━━\u001B[0m\u001B[37m\u001B[0m \u001B[1m11s\u001B[0m 25ms/step - accuracy: 0.9816 - loss: 0.0613 - val_accuracy: 0.9897 - val_loss: 0.0369\n",
      "Epoch 6/15\n",
      "\u001B[1m422/422\u001B[0m \u001B[32m━━━━━━━━━━━━━━━━━━━━\u001B[0m\u001B[37m\u001B[0m \u001B[1m11s\u001B[0m 27ms/step - accuracy: 0.9833 - loss: 0.0561 - val_accuracy: 0.9890 - val_loss: 0.0363\n",
      "Epoch 7/15\n",
      "\u001B[1m422/422\u001B[0m \u001B[32m━━━━━━━━━━━━━━━━━━━━\u001B[0m\u001B[37m\u001B[0m \u001B[1m12s\u001B[0m 28ms/step - accuracy: 0.9838 - loss: 0.0532 - val_accuracy: 0.9913 - val_loss: 0.0341\n",
      "Epoch 8/15\n",
      "\u001B[1m422/422\u001B[0m \u001B[32m━━━━━━━━━━━━━━━━━━━━\u001B[0m\u001B[37m\u001B[0m \u001B[1m13s\u001B[0m 30ms/step - accuracy: 0.9855 - loss: 0.0452 - val_accuracy: 0.9897 - val_loss: 0.0362\n",
      "Epoch 9/15\n",
      "\u001B[1m422/422\u001B[0m \u001B[32m━━━━━━━━━━━━━━━━━━━━\u001B[0m\u001B[37m\u001B[0m \u001B[1m12s\u001B[0m 29ms/step - accuracy: 0.9870 - loss: 0.0444 - val_accuracy: 0.9887 - val_loss: 0.0377\n",
      "Epoch 10/15\n",
      "\u001B[1m422/422\u001B[0m \u001B[32m━━━━━━━━━━━━━━━━━━━━\u001B[0m\u001B[37m\u001B[0m \u001B[1m12s\u001B[0m 27ms/step - accuracy: 0.9868 - loss: 0.0419 - val_accuracy: 0.9913 - val_loss: 0.0328\n",
      "Epoch 11/15\n",
      "\u001B[1m422/422\u001B[0m \u001B[32m━━━━━━━━━━━━━━━━━━━━\u001B[0m\u001B[37m\u001B[0m \u001B[1m11s\u001B[0m 26ms/step - accuracy: 0.9880 - loss: 0.0371 - val_accuracy: 0.9922 - val_loss: 0.0302\n",
      "Epoch 12/15\n",
      "\u001B[1m422/422\u001B[0m \u001B[32m━━━━━━━━━━━━━━━━━━━━\u001B[0m\u001B[37m\u001B[0m \u001B[1m13s\u001B[0m 32ms/step - accuracy: 0.9875 - loss: 0.0372 - val_accuracy: 0.9895 - val_loss: 0.0320\n",
      "Epoch 13/15\n",
      "\u001B[1m422/422\u001B[0m \u001B[32m━━━━━━━━━━━━━━━━━━━━\u001B[0m\u001B[37m\u001B[0m \u001B[1m13s\u001B[0m 31ms/step - accuracy: 0.9888 - loss: 0.0356 - val_accuracy: 0.9913 - val_loss: 0.0293\n",
      "Epoch 14/15\n",
      "\u001B[1m422/422\u001B[0m \u001B[32m━━━━━━━━━━━━━━━━━━━━\u001B[0m\u001B[37m\u001B[0m \u001B[1m13s\u001B[0m 31ms/step - accuracy: 0.9892 - loss: 0.0332 - val_accuracy: 0.9907 - val_loss: 0.0306\n",
      "Epoch 15/15\n",
      "\u001B[1m422/422\u001B[0m \u001B[32m━━━━━━━━━━━━━━━━━━━━\u001B[0m\u001B[37m\u001B[0m \u001B[1m13s\u001B[0m 31ms/step - accuracy: 0.9900 - loss: 0.0324 - val_accuracy: 0.9927 - val_loss: 0.0284\n",
      "Test loss: 0.02581583335995674\n",
      "Test accuracy: 0.9908000230789185\n"
     ]
    }
   ],
   "source": [
    "\"\"\"\n",
    "Title: Simple MNIST convnet\n",
    "Author: [fchollet](https://twitter.com/fchollet)\n",
    "Date created: 2015/06/19\n",
    "Last modified: 2020/04/21\n",
    "Description: A simple convnet that achieves ~99% test accuracy on MNIST.\n",
    "SOURCE: https://github.com/keras-team/keras-io/blob/master/examples/vision/mnist_convnet.py\n",
    "\"\"\"\n",
    "\n",
    "\"\"\"\n",
    "## Setup\n",
    "\"\"\"\n",
    "\n",
    "import numpy as np\n",
    "from tensorflow import keras\n",
    "from tensorflow.keras import layers\n",
    "\n",
    "\"\"\"\n",
    "## Prepare the data\n",
    "\"\"\"\n",
    "\n",
    "# Model / data parameters\n",
    "num_classes = 10\n",
    "input_shape = (28, 28, 1)\n",
    "\n",
    "# the data, split between train and test sets\n",
    "(x_train, y_train), (x_test, y_test) = keras.datasets.mnist.load_data()\n",
    "\n",
    "# Scale images to the [0, 1] range\n",
    "x_train = x_train.astype(\"float32\") / 255\n",
    "x_test = x_test.astype(\"float32\") / 255\n",
    "# Make sure images have shape (28, 28, 1)\n",
    "x_train = np.expand_dims(x_train, -1)\n",
    "x_test = np.expand_dims(x_test, -1)\n",
    "print(\"x_train shape:\", x_train.shape)\n",
    "print(x_train.shape[0], \"train samples\")\n",
    "print(x_test.shape[0], \"test samples\")\n",
    "\n",
    "\n",
    "# convert class vectors to binary class matrices\n",
    "y_train = keras.utils.to_categorical(y_train, num_classes)\n",
    "y_test = keras.utils.to_categorical(y_test, num_classes)\n",
    "\n",
    "\"\"\"\n",
    "## Build the model\n",
    "\"\"\"\n",
    "\n",
    "model = keras.Sequential(\n",
    "    [\n",
    "        keras.Input(shape=input_shape),\n",
    "        layers.Conv2D(32, kernel_size=(3, 3), activation=\"relu\"),\n",
    "        layers.MaxPooling2D(pool_size=(2, 2)),\n",
    "        layers.Conv2D(64, kernel_size=(3, 3), activation=\"relu\"),\n",
    "        layers.MaxPooling2D(pool_size=(2, 2)),\n",
    "        layers.Flatten(),\n",
    "        layers.Dropout(0.5),\n",
    "        layers.Dense(num_classes, activation=\"softmax\"),\n",
    "    ]\n",
    ")\n",
    "\n",
    "model.summary()\n",
    "\n",
    "\"\"\"\n",
    "## Train the model\n",
    "\"\"\"\n",
    "\n",
    "batch_size = 128\n",
    "epochs = 15\n",
    "\n",
    "model.compile(\n",
    "    loss=\"categorical_crossentropy\",\n",
    "    optimizer=\"adam\",\n",
    "    metrics=[\"accuracy\"])\n",
    "\n",
    "history = model.fit(\n",
    "    x_train, y_train,\n",
    "    batch_size=batch_size,\n",
    "    epochs=epochs,\n",
    "    validation_split=0.1)\n",
    "\n",
    "\"\"\"\n",
    "## Evaluate the trained model\n",
    "\"\"\"\n",
    "score = model.evaluate(x_test, y_test, verbose=0)\n",
    "print(\"Test loss:\", score[0])\n",
    "print(\"Test accuracy:\", score[1])"
   ]
  },
  {
   "cell_type": "markdown",
   "source": [
    "#### 4.1 **[1pt]** Data plotting: plot the first 9 images in MNIST using a 6x6 subplot."
   ],
   "metadata": {
    "collapsed": false
   }
  },
  {
   "cell_type": "markdown",
   "metadata": {},
   "source": [
    "Let's first see what the MNIST looks like. I showed how to use subplots in a recent solution -- do you remember where it was? You'll need the ability to search quickly for what you need to complete the exam in time. Try timing how long it takes you to answer this question (no seriously challenge your teammate on who solves this the quickest and feel free to brag about it in your solution below).\n",
    "- Add the label on the title to see how the numbers are represented: do you see the connection to last week's `species`?\n",
    "- After you obtain the axis from `plt.subplots()`, you can print a 2D image using `ax[?,?].imshow()`"
   ]
  },
  {
   "cell_type": "code",
   "execution_count": 5,
   "metadata": {
    "collapsed": false,
    "ExecuteTime": {
     "end_time": "2024-05-12T12:35:07.508918Z",
     "start_time": "2024-05-12T12:35:06.395030Z"
    }
   },
   "outputs": [
    {
     "data": {
      "text/plain": "<Figure size 720x720 with 9 Axes>",
      "image/png": "[encoded data removed]"
     },
     "metadata": {},
     "output_type": "display_data"
    }
   ],
   "source": [
    "import matplotlib.pyplot as plt\n",
    "from tensorflow import keras\n",
    "\n",
    "# Load the MNIST dataset\n",
    "(x_train, y_train), (_, _) = keras.datasets.mnist.load_data()\n",
    "\n",
    "# Create a 6x6 subplot grid\n",
    "fig, axes = plt.subplots(3, 3, figsize=(10, 10))\n",
    "\n",
    "# Plot the first 9 images\n",
    "for i in range(3):\n",
    "    for j in range(3):\n",
    "        ax = axes[i, j]\n",
    "        image_index = i * 3 + j\n",
    "        ax.imshow(x_train[image_index], cmap='gray')\n",
    "        ax.set_title(f\"Label: {y_train[image_index]}\")\n",
    "        ax.axis('off')\n",
    "\n",
    "plt.tight_layout()\n",
    "plt.show()\n"
   ]
  },
  {
   "cell_type": "markdown",
   "metadata": {},
   "source": [
    "#### 4.2 **[4pt]** Explain the following lines in the Keras MNIST Tutorial code (in English): 27, 48, 51, 52, 57, 67/77, 68/78, 71\n",
    "\n",
    "- To answer this question you need to show complete competence, as if you wrote this code yourself and you were asked to explain your choices at an oral exam.\n",
    "- For each of the lines mentioned, check the code provided and explain it thoroughly\n",
    "- For each variable, explain its meaning, its use, and the choice of value assigned\n",
    "- For each function call, explain what it does, the meaning of all parameters, and the choices of all values.\n",
    "- Reading the code like \"assign 12 to variable `epochs`\" will not constitute an acceptable answer.\n",
    "- Reading the code like \"creates a new Sequential\" is also not acceptable: check the documentation for `Sequential`, understand what the call does, and present your findings."
   ]
  },
  {
   "cell_type": "markdown",
   "metadata": {},
   "source": [
    "**Line 27:**\n",
    "```python\n",
    "(x_train, y_train), (x_test, y_test) = keras.datasets.mnist.load_data()\n",
    "```\n",
    "Explanation:\n",
    "- This line loads the MNIST dataset from the Keras library.\n",
    "- The MNIST dataset is a collection of handwritten digits (0-9) commonly used for training and testing machine learning models.\n",
    "- `keras.datasets.mnist.load_data()` is a function call that retrieves the MNIST dataset from the Keras library.\n",
    "- The dataset is split into two parts: training data `(x_train, y_train)` and testing data `(x_test, y_test)`.\n",
    "- `x_train` contains the images of handwritten digits used for training the model, while `y_train` contains the corresponding labels (the actual digit each image represents).\n",
    "- Similarly, `x_test` contains the images for testing the trained model, and `y_test` contains their corresponding labels.\n",
    "\n",
    "In summary, line 27 loads the MNIST dataset and splits it into training and testing sets, with images and their corresponding labels for both sets. This dataset will be used to train and evaluate the convolutional neural network model.\n",
    "\n",
    "\n",
    "\n",
    "\n",
    "\n",
    "\n",
    "**Line 48 initializes a Sequential model in Keras:**\n",
    "\n",
    "```python\n",
    "model = keras.Sequential()\n",
    "```\n",
    "\n",
    "Explanation:\n",
    "- In Keras, a Sequential model is a linear stack of layers.\n",
    "- This line creates an instance of the Sequential model, which will be used to build the convolutional neural network (CNN) for classifying handwritten digits in the MNIST dataset.\n",
    "- The Sequential model allows us to create neural networks layer by layer in a sequential manner.\n",
    "- The parentheses `()` are used to instantiate the Sequential model.\n",
    "- This line initializes an empty Sequential model without any layers added yet.\n",
    "\n",
    "In summary, line 48 initializes an empty Sequential model, which will be further built by adding layers to define the architecture of the CNN for the MNIST classification task.\n",
    "\n",
    "\n",
    "**Line 51 adds a 2D convolutional layer to the Sequential model:**\n",
    "\n",
    "```python\n",
    "layers.Conv2D(32, kernel_size=(3, 3), activation=\"relu\"),\n",
    "```\n",
    "\n",
    "Explanation:\n",
    "- `layers.Conv2D()` is a function call that adds a 2D convolutional layer to the Sequential model.\n",
    "- This layer is responsible for performing convolution operations on the input data.\n",
    "- The first parameter `32` specifies the number of filters (or kernels) in the convolutional layer. Each filter detects different features in the input data.\n",
    "- `kernel_size=(3, 3)` specifies the size of the convolutional kernel. In this case, it is a 3x3 kernel, meaning the convolutional operation will be applied in a 3x3 window over the input data.\n",
    "- `activation=\"relu\"` sets the activation function for the layer to Rectified Linear Unit (ReLU). ReLU is a commonly used activation function in convolutional neural networks (CNNs) because of its simplicity and effectiveness in introducing non-linearity to the network.\n",
    "\n",
    "In summary, line 51 adds a 2D convolutional layer to the Sequential model with 32 filters, a 3x3 kernel size, and ReLU activation. This layer is essential for extracting features from the input images during the training process.\n",
    "\n",
    "\n",
    "**Line 52 adds a MaxPooling2D layer to the Sequential model:**\n",
    "\n",
    "```python\n",
    "layers.MaxPooling2D(pool_size=(2, 2)),\n",
    "```\n",
    "\n",
    "Explanation:\n",
    "- `layers.MaxPooling2D()` is a function call that adds a 2D max pooling layer to the Sequential model.\n",
    "- Max pooling is a downsampling operation commonly used in convolutional neural networks (CNNs) to reduce the spatial dimensions of the feature maps and extract the most important features.\n",
    "- The `pool_size=(2, 2)` parameter specifies the size of the pooling window. In this case, it is a 2x2 window, meaning the maximum value within each 2x2 window of the input feature maps will be retained, and the rest will be discarded.\n",
    "\n",
    "\n",
    "In summary, line 52 adds a MaxPooling2D layer to the Sequential model with a 2x2 pooling window. This layer helps reduce the spatial dimensions of the feature maps produced by the convolutional layers, making the model more efficient and robust to variations in the input data.\n",
    "\n",
    "\n",
    "**Line 57 adds a fully connected Dense layer to the Sequential model:**\n",
    "\n",
    "```python\n",
    "layers.Dense(num_classes, activation=\"softmax\"),\n",
    "```\n",
    "\n",
    "Explanation:\n",
    "- `layers.Dense()` is a function call that adds a fully connected dense layer to the Sequential model.\n",
    "- Dense layers are also known as fully connected layers, where each neuron in the layer is connected to every neuron in the previous layer.\n",
    "- The first parameter `num_classes` specifies the number of neurons (or units) in the dense layer. In this case, it is set to the number of classes in the classification task, which is 10 for the MNIST dataset (digits 0-9).\n",
    "- `activation=\"softmax\"` sets the activation function for the layer to Softmax. Softmax activation is commonly used in the output layer of classification models to convert the raw output scores into probability distributions over the different classes. It ensures that the output values are normalized and sum up to 1.\n",
    "\n",
    "In summary, line 57 adds a fully connected Dense layer to the Sequential model with a Softmax activation function. This layer is responsible for producing the final output probabilities for each class in the classification task.\n",
    "\n",
    "\n",
    "**Lines 67 and 77 set the batch size for training the model.**\n",
    "\n",
    "- Line 67 assigns the value `128` to the variable `batch_size`, which represents the number of samples processed at once during training.\n",
    "- Line 77 uses the `batch_size` parameter in the `model.fit()` function call to specify the batch size for training. By passing the variable `batch_size` as the parameter value, it ensures consistency and flexibility in adjusting the batch size.\n",
    "\n",
    "\n",
    "**Lines 68 and 78 are related to specifying the number of epochs for training the model using the `model.fit()` function.**\n",
    "\n",
    "Explanation:\n",
    "- Line 68 represents the number of epochs, i.e., the number of times the entire training dataset is passed forward and backward through the neural network during training.\n",
    "- Line 78, when calling the `model.fit()` function, the `epochs` parameter is set to the value of the variable `epochs` defined earlier. By passing the variable `epochs` as the value for the `epochs` parameter, it specifies the number of training epochs for the model.\n",
    "- Training a neural network for multiple epochs allows it to learn from the training data progressively and refine its weights to improve performance.\n",
    "- Setting an appropriate number of epochs is essential for training deep learning models. Too few epochs may result in **underfitting**, where the model fails to capture the underlying patterns in the data, while too many epochs may lead to **overfitting**, where the model learns to memorize the training data and performs poorly on unseen data.\n",
    "- By specifying the number of epochs in both lines 68 and 78, it ensures that the model undergoes training for a fixed number of epochs, allowing it to converge to an optimal solution without overfitting or underfitting.\n",
    "\n",
    "\n",
    "**Line 71 specifies the loss function used during model compilation, particularly for categorical classification tasks.**\n",
    "\n",
    "Explanation:\n",
    "- In line 71, This indicates that the categorical cross-entropy loss function will be used to compute the loss during training. \n",
    "- Categorical cross-entropy is a commonly used loss function for multi-class classification problems where each input sample belongs to one of several classes. It measures the dissimilarity between the true class distributions and the predicted class distributions. For each sample, it computes the cross-entropy loss between the true one-hot encoded class labels and the predicted probabilities output by the model.\n",
    "- When compiling the model in line 71, the `loss` parameter of the `model.compile()` function is set to the value of the variable `loss`, which is `\"categorical_crossentropy\"`. This ensures that during training, the model optimizes its weights to minimize the categorical cross-entropy loss.\n",
    "- Choosing an appropriate loss function is crucial for training deep learning models. The categorical cross-entropy loss is suitable for multi-class classification tasks and is commonly used alongside softmax activation functions in the output layer.\n",
    "- By specifying the loss function as `\"categorical_crossentropy\"` in line 71, it ensures that the model is trained to minimize the discrepancy between the predicted class probabilities and the true class labels, leading to improved accuracy on the classification task.\n"
   ]
  },
  {
   "cell_type": "markdown",
   "metadata": {},
   "source": [
    "#### 4.3 **[2pt]** Run Keras MNIST code, tweaking it as needed if it takes too long on your machine. Plot the model's accuracy and loss over time."
   ]
  },
  {
   "cell_type": "markdown",
   "metadata": {},
   "source": [
    "- This is almost for free since you did the same visualization last week, but you need to get the code to run first.\n",
    "- Also you may want to make sure your changes include setting 'accuracy' and the `history` variable, or at the end of the run you could end up with still nothing to show :)"
   ]
  },
  {
   "cell_type": "code",
   "execution_count": 6,
   "metadata": {
    "ExecuteTime": {
     "end_time": "2024-05-12T12:35:07.948978Z",
     "start_time": "2024-05-12T12:35:07.510218Z"
    }
   },
   "outputs": [
    {
     "data": {
      "text/plain": "<Figure size 432x288 with 1 Axes>",
      "image/png": "[encoded data removed]"
     },
     "metadata": {},
     "output_type": "display_data"
    },
    {
     "data": {
      "text/plain": "<Figure size 432x288 with 1 Axes>",
      "image/png": "[encoded data removed]"
     },
     "metadata": {},
     "output_type": "display_data"
    }
   ],
   "source": [
    "for idx, metric in enumerate(['accuracy', 'loss']):\n",
    "    plt.figure(idx)\n",
    "    plt.plot(history.history[metric])\n",
    "    plt.plot(history.history['val_' + metric])\n",
    "    plt.title('Model ' + metric)\n",
    "    plt.ylabel(metric.capitalize())\n",
    "    plt.xlabel('Epoch')\n",
    "    plt.legend(['Train', 'Test'], loc='upper left')\n",
    "    plt.show()\n"
   ]
  },
  {
   "cell_type": "markdown",
   "metadata": {},
   "source": [
    "# At the end of the exercise"
   ]
  },
  {
   "cell_type": "markdown",
   "metadata": {},
   "source": [
    "Bonus question with no points! Answering this will have no influence on your scoring, not at the assignment and not towards the exam score -- really feel free to ignore it with no consequence. But solving it will reward you with skills that will make the next lectures easier, give you real applications, and will be good practice towards the exam.\n",
    "\n",
    "The solution for this questions will not be included in the regular lab solutions pdf, but you are welcome to open a discussion on the Moodle: we will support your addressing it, and you may meet other students that choose to solve this, and find a teammate for the next assignment that is willing to do things for fun and not only for score :)"
   ]
  },
  {
   "cell_type": "markdown",
   "metadata": {},
   "source": [
    "#### BONUS **[ZERO pt]** Edit the Keras MNIST code to use a simple RNN, then cheat by passing all images of a class in a sequence (careful with batch size). Reset the network between classes. RNNs will recognize that you expect a constant output per each sequence, decide which output with the first few images, then just saturate the right neurons using the recurrent connections to generate a constant output regardless of the input. You can verify this by then testing the network on a sequence of elements from a constant class, followed by one (or more) elements from another class: they will likely be misclassified. All intelligent learning picks up on shortcuts whenever available, here is a famous example (check the full paper): [husky vs. wolf](https://www.researchgate.net/figure/A-husky-on-the-left-is-confused-with-a-wolf-because-the-pixels-on-the-right_fig1_329277474). Notice that getting a \"simple\" RNN in Keras is not straightforward."
   ]
  },
  {
   "cell_type": "markdown",
   "metadata": {},
   "source": [
    "### Final considerations"
   ]
  },
  {
   "cell_type": "markdown",
   "metadata": {},
   "source": [
    "- At the end of this lecture + exercise you should _own_ neural networks. It does not mean that you know everything about them, but you know enough to understand any resource on the topic, and actually understand how these things work better than most people who just use Keras/Pytorch on a daily basis (unfortunately)."
   ]
  },
  {
   "cell_type": "code",
   "execution_count": 6,
   "metadata": {
    "collapsed": false,
    "ExecuteTime": {
     "end_time": "2024-05-12T12:35:07.951870Z",
     "start_time": "2024-05-12T12:35:07.950058Z"
    }
   },
   "outputs": [],
   "source": []
  }
 ],
 "metadata": {
  "kernelspec": {
   "display_name": "Python 3 (ipykernel)",
   "language": "python",
   "name": "python3"
  },
  "language_info": {
   "codemirror_mode": {
    "name": "ipython",
    "version": 3
   },
   "file_extension": ".py",
   "mimetype": "text/x-python",
   "name": "python",
   "nbconvert_exporter": "python",
   "pygments_lexer": "ipython3",
   "version": "3.10.12"
  }
 },
 "nbformat": 4,
 "nbformat_minor": 4
}
