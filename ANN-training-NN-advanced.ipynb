{
 "cells": [
  {
   "cell_type": "code",
   "outputs": [
    {
     "name": "stderr",
     "output_type": "stream",
     "text": [
      "2024-08-18 11:49:07.564752: I tensorflow/core/platform/cpu_feature_guard.cc:210] This TensorFlow binary is optimized to use available CPU instructions in performance-critical operations.\n",
      "To enable the following instructions: AVX2 FMA, in other operations, rebuild TensorFlow with the appropriate compiler flags.\n",
      "2024-08-18 11:49:08.378022: W tensorflow/compiler/tf2tensorrt/utils/py_utils.cc:38] TF-TRT Warning: Could not find TensorRT\n"
     ]
    }
   ],
   "source": [
    "import numpy as np\n",
    "from tensorflow.keras.models import Sequential\n",
    "from tensorflow.keras.layers import Dense\n",
    "from sklearn.model_selection import train_test_split\n",
    "from sklearn.datasets import make_classification\n",
    "from sklearn.metrics import accuracy_score"
   ],
   "metadata": {
    "collapsed": false,
    "ExecuteTime": {
     "end_time": "2024-08-18T09:49:08.991022Z",
     "start_time": "2024-08-18T09:49:07.333841Z"
    }
   },
   "id": "a605646acbcd2682",
   "execution_count": 1
  },
  {
   "cell_type": "code",
   "outputs": [],
   "source": [
    "X,y = make_classification(n_samples=1000, n_features=20, n_classes=2, random_state=42)"
   ],
   "metadata": {
    "collapsed": false,
    "ExecuteTime": {
     "end_time": "2024-08-18T09:49:08.996003Z",
     "start_time": "2024-08-18T09:49:08.991851Z"
    }
   },
   "id": "805bfa75258741a2",
   "execution_count": 2
  },
  {
   "cell_type": "code",
   "outputs": [],
   "source": [
    "# Split the data into training, validation, and test sets\n",
    "X_train, X_temp, y_train, y_temp = train_test_split(X, y, test_size=0.3, random_state=42)\n",
    "X_val, X_test, y_val, y_test = train_test_split(X_temp, y_temp, test_size=0.5, random_state=42)"
   ],
   "metadata": {
    "collapsed": false,
    "ExecuteTime": {
     "end_time": "2024-08-18T09:49:09.008488Z",
     "start_time": "2024-08-18T09:49:08.997023Z"
    }
   },
   "id": "a5cbb6d91f3c87f5",
   "execution_count": 3
  },
  {
   "cell_type": "code",
   "outputs": [
    {
     "name": "stderr",
     "output_type": "stream",
     "text": [
      "/home/gobi/anaconda3/lib/python3.9/site-packages/keras/src/layers/core/dense.py:87: UserWarning: Do not pass an `input_shape`/`input_dim` argument to a layer. When using Sequential models, prefer using an `Input(shape)` object as the first layer in the model instead.\n",
      "  super().__init__(activity_regularizer=activity_regularizer, **kwargs)\n",
      "2024-08-18 11:49:09.056924: I external/local_xla/xla/stream_executor/cuda/cuda_executor.cc:998] successful NUMA node read from SysFS had negative value (-1), but there must be at least one NUMA node, so returning NUMA node zero. See more at https://github.com/torvalds/linux/blob/v6.0/Documentation/ABI/testing/sysfs-bus-pci#L344-L355\n",
      "2024-08-18 11:49:09.057417: W tensorflow/core/common_runtime/gpu/gpu_device.cc:2251] Cannot dlopen some GPU libraries. Please make sure the missing libraries mentioned above are installed properly if you would like to use GPU. Follow the guide at https://www.tensorflow.org/install/gpu for how to download and setup the required libraries for your platform.\n",
      "Skipping registering GPU devices...\n"
     ]
    }
   ],
   "source": [
    "# Build the ANN model\n",
    "model = Sequential([\n",
    "    Dense(64, input_dim=20, activation='relu'), # Cette ligne de code définit une couche dense (ou fully connected) dans un réseau de neurones, avec 64 neurones, une entrée de dimension 20, et utilise la fonction d'activation ReLU pour introduire de la non-linéarité.\n",
    "    Dense(32, activation=\"relu\"),\n",
    "    Dense(1, activation=\"sigmoid\")\n",
    "])"
   ],
   "metadata": {
    "collapsed": false,
    "ExecuteTime": {
     "end_time": "2024-08-18T09:49:09.095072Z",
     "start_time": "2024-08-18T09:49:09.009306Z"
    }
   },
   "id": "6a2394110446fc29",
   "execution_count": 4
  },
  {
   "cell_type": "code",
   "outputs": [],
   "source": [
    "model.compile(optimizer='adam', loss='binary_crossentropy', metrics=['accuracy'])"
   ],
   "metadata": {
    "collapsed": false,
    "ExecuteTime": {
     "end_time": "2024-08-18T09:49:09.106703Z",
     "start_time": "2024-08-18T09:49:09.096036Z"
    }
   },
   "id": "c0375fee64f989b",
   "execution_count": 5
  },
  {
   "cell_type": "code",
   "outputs": [
    {
     "name": "stdout",
     "output_type": "stream",
     "text": [
      "Epoch 1/10\n",
      "\u001B[1m22/22\u001B[0m \u001B[32m━━━━━━━━━━━━━━━━━━━━\u001B[0m\u001B[37m\u001B[0m \u001B[1m1s\u001B[0m 7ms/step - accuracy: 0.5283 - loss: 0.6881 - val_accuracy: 0.7333 - val_loss: 0.5911\n",
      "Epoch 2/10\n",
      "\u001B[1m22/22\u001B[0m \u001B[32m━━━━━━━━━━━━━━━━━━━━\u001B[0m\u001B[37m\u001B[0m \u001B[1m0s\u001B[0m 2ms/step - accuracy: 0.8052 - loss: 0.5401 - val_accuracy: 0.8333 - val_loss: 0.4930\n",
      "Epoch 3/10\n",
      "\u001B[1m22/22\u001B[0m \u001B[32m━━━━━━━━━━━━━━━━━━━━\u001B[0m\u001B[37m\u001B[0m \u001B[1m0s\u001B[0m 2ms/step - accuracy: 0.8828 - loss: 0.4327 - val_accuracy: 0.8600 - val_loss: 0.4241\n",
      "Epoch 4/10\n",
      "\u001B[1m22/22\u001B[0m \u001B[32m━━━━━━━━━━━━━━━━━━━━\u001B[0m\u001B[37m\u001B[0m \u001B[1m0s\u001B[0m 2ms/step - accuracy: 0.8690 - loss: 0.3693 - val_accuracy: 0.8600 - val_loss: 0.3924\n",
      "Epoch 5/10\n",
      "\u001B[1m22/22\u001B[0m \u001B[32m━━━━━━━━━━━━━━━━━━━━\u001B[0m\u001B[37m\u001B[0m \u001B[1m0s\u001B[0m 2ms/step - accuracy: 0.8763 - loss: 0.3306 - val_accuracy: 0.8600 - val_loss: 0.3778\n",
      "Epoch 6/10\n",
      "\u001B[1m22/22\u001B[0m \u001B[32m━━━━━━━━━━━━━━━━━━━━\u001B[0m\u001B[37m\u001B[0m \u001B[1m0s\u001B[0m 2ms/step - accuracy: 0.8803 - loss: 0.2970 - val_accuracy: 0.8533 - val_loss: 0.3710\n",
      "Epoch 7/10\n",
      "\u001B[1m22/22\u001B[0m \u001B[32m━━━━━━━━━━━━━━━━━━━━\u001B[0m\u001B[37m\u001B[0m \u001B[1m0s\u001B[0m 2ms/step - accuracy: 0.9057 - loss: 0.2594 - val_accuracy: 0.8600 - val_loss: 0.3659\n",
      "Epoch 8/10\n",
      "\u001B[1m22/22\u001B[0m \u001B[32m━━━━━━━━━━━━━━━━━━━━\u001B[0m\u001B[37m\u001B[0m \u001B[1m0s\u001B[0m 2ms/step - accuracy: 0.8785 - loss: 0.2975 - val_accuracy: 0.8533 - val_loss: 0.3630\n",
      "Epoch 9/10\n",
      "\u001B[1m22/22\u001B[0m \u001B[32m━━━━━━━━━━━━━━━━━━━━\u001B[0m\u001B[37m\u001B[0m \u001B[1m0s\u001B[0m 2ms/step - accuracy: 0.8945 - loss: 0.2739 - val_accuracy: 0.8467 - val_loss: 0.3614\n",
      "Epoch 10/10\n",
      "\u001B[1m22/22\u001B[0m \u001B[32m━━━━━━━━━━━━━━━━━━━━\u001B[0m\u001B[37m\u001B[0m \u001B[1m0s\u001B[0m 2ms/step - accuracy: 0.8944 - loss: 0.2404 - val_accuracy: 0.8400 - val_loss: 0.3593\n"
     ]
    }
   ],
   "source": [
    "history = model.fit(X_train, y_train, validation_data=(X_val, y_val), epochs=10, batch_size=32)"
   ],
   "metadata": {
    "collapsed": false,
    "ExecuteTime": {
     "end_time": "2024-08-18T09:49:10.573329Z",
     "start_time": "2024-08-18T09:49:09.107595Z"
    }
   },
   "id": "4fba79971817619e",
   "execution_count": 6
  },
  {
   "cell_type": "markdown",
   "source": [
    "More detailed explanation:\n",
    "\n",
    "The line `history = model.fit(X_train, y_train, validation_data=(X_val, y_val), epochs=10, batch_size=32)` is used to train a neural network model. The `fit` function takes in the training data `X_train` (features) and `y_train` (labels) to learn patterns and relationships in the data. The training process is conducted over 10 epochs, meaning the entire dataset is passed through the network 10 times. During training, the model's performance is periodically evaluated on a separate validation set, `X_val` and `y_val`, to monitor how well the model generalizes to unseen data. The `batch_size` of 32 indicates that the model processes the data in small groups of 32 samples at a time, which helps in managing memory and improving convergence. The training process's progress, including metrics like loss and accuracy, is stored in the `history` object, allowing for further analysis and visualization of the model's performance over time."
   ],
   "metadata": {
    "collapsed": false
   },
   "id": "dcca674963b62cb9"
  },
  {
   "cell_type": "code",
   "outputs": [
    {
     "name": "stdout",
     "output_type": "stream",
     "text": [
      "\u001B[1m5/5\u001B[0m \u001B[32m━━━━━━━━━━━━━━━━━━━━\u001B[0m\u001B[37m\u001B[0m \u001B[1m0s\u001B[0m 7ms/step \n"
     ]
    }
   ],
   "source": [
    "y_pred = (model.predict(X_test) > 0.5).astype(\"int32\")"
   ],
   "metadata": {
    "collapsed": false,
    "ExecuteTime": {
     "end_time": "2024-08-18T09:49:10.680399Z",
     "start_time": "2024-08-18T09:49:10.574263Z"
    }
   },
   "id": "2bfcc3d89ba270a3",
   "execution_count": 7
  },
  {
   "cell_type": "markdown",
   "source": [
    "The line `y_pred = (model.predict(X_test) > 0.5).astype(\"int32\")` is used to generate binary predictions from a trained neural network model. Here's how it works:\n",
    "\n",
    "1. **`model.predict(X_test)`**: This part of the code uses the trained model to make predictions on the test data `X_test`. The output is typically a set of probabilities for each sample, indicating the likelihood of belonging to a particular class.\n",
    "\n",
    "2. **`> 0.5`**: Since the output probabilities are between 0 and 1, this condition is applied to convert the probabilities into binary decisions. If the predicted probability is greater than 0.5, it is classified as `1` (indicating the positive class); otherwise, it is classified as `0` (indicating the negative class).\n",
    "\n",
    "3. **`.astype(\"int32\")`**: This converts the boolean array (True/False) into an integer array (1/0). The final result is a set of predictions (`y_pred`) in binary form (either 0 or 1) that can be compared against the true labels to evaluate the model's performance.\n",
    "\n",
    "This line is commonly used in binary classification tasks to interpret the model's output and prepare it for further evaluation, such as calculating accuracy, precision, or recall."
   ],
   "metadata": {
    "collapsed": false
   },
   "id": "3236986486037a0f"
  },
  {
   "cell_type": "code",
   "outputs": [],
   "source": [
    "accuracy_score = accuracy_score(y_test, y_pred)"
   ],
   "metadata": {
    "collapsed": false,
    "ExecuteTime": {
     "end_time": "2024-08-18T09:49:10.684426Z",
     "start_time": "2024-08-18T09:49:10.681523Z"
    }
   },
   "id": "acf8ce686137fd73",
   "execution_count": 8
  },
  {
   "cell_type": "code",
   "outputs": [
    {
     "name": "stdout",
     "output_type": "stream",
     "text": [
      "accuracy_score:  82.00 %\n"
     ]
    }
   ],
   "source": [
    "print(f\"accuracy_score: { accuracy_score*100: .2f} %\")"
   ],
   "metadata": {
    "collapsed": false,
    "ExecuteTime": {
     "end_time": "2024-08-18T09:49:10.688007Z",
     "start_time": "2024-08-18T09:49:10.685390Z"
    }
   },
   "id": "e6e946049504164f",
   "execution_count": 9
  },
  {
   "cell_type": "code",
   "outputs": [],
   "source": [
    "import matplotlib.pyplot as plt"
   ],
   "metadata": {
    "collapsed": false,
    "ExecuteTime": {
     "end_time": "2024-08-18T09:49:10.690896Z",
     "start_time": "2024-08-18T09:49:10.688897Z"
    }
   },
   "id": "752bccbaabec6f78",
   "execution_count": 10
  },
  {
   "cell_type": "code",
   "outputs": [
    {
     "data": {
      "text/plain": "<Figure size 432x288 with 1 Axes>",
      "image/png": "[encoded data removed]"
     },
     "metadata": {},
     "output_type": "display_data"
    }
   ],
   "source": [
    "plt.plot(history.history['accuracy'], label='Train Accuracy')\n",
    "plt.plot(history.history['val_accuracy'], label='Val Accuracy')\n",
    "plt.xlabel(\"Epochs\")\n",
    "plt.ylabel(\"Accuracy\")\n",
    "plt.legend()\n",
    "plt.show()"
   ],
   "metadata": {
    "collapsed": false,
    "ExecuteTime": {
     "end_time": "2024-08-18T09:49:10.858701Z",
     "start_time": "2024-08-18T09:49:10.691634Z"
    }
   },
   "id": "46b8abf7fe7148a5",
   "execution_count": 11
  },
  {
   "cell_type": "markdown",
   "source": [
    "# Deep CNN Architectures"
   ],
   "metadata": {
    "collapsed": false
   },
   "id": "f49cbd9e9af305e1"
  },
  {
   "cell_type": "code",
   "outputs": [],
   "source": [
    "import tensorflow as tf\n",
    "from tensorflow.keras.applications import VGG16\n",
    "from tensorflow.keras.models import Model\n",
    "from tensorflow.keras.layers import Dense, Flatten\n",
    "from tensorflow.keras.preprocessing.image import ImageDataGenerator\n",
    "\n",
    "# Load the VGG16 model with pre-trained weights from ImageNet, excluding the top (last) layer\n",
    "base_model = VGG16(weights='imagenet', include_top=False, input_shape=(224, 224, 3))\n",
    "\n",
    "# Add custom layers on top of the base model\n",
    "x = base_model.output  # Get the output of the base model\n",
    "x = Flatten()(x)  # Flatten the output to a 1D feature vector\n",
    "x = Dense(256, activation='relu')(x)  # Add a dense layer with 256 units and ReLU activation\n",
    "predictions = Dense(10, activation='softmax')(x)  # Add the final output layer with 10 units for 10 classes, using softmax\n",
    "\n",
    "# Create the final model\n",
    "model = Model(inputs=base_model.input, outputs=predictions)\n",
    "\n",
    "# Freeze the layers of the base model so they are not trainable\n",
    "for layer in base_model.layers:\n",
    "    layer.trainable = False\n",
    "\n",
    "# Compile the model with Adam optimizer and categorical crossentropy loss function\n",
    "model.compile(optimizer='adam', loss='categorical_crossentropy', metrics=['accuracy'])\n",
    "\n",
    "# Prepare the training data with augmentation and normalization\n",
    "train_datagen = ImageDataGenerator(rescale=1./255)  # Rescale pixel values to [0, 1]\n",
    "train_generator = train_datagen.flow_from_directory(\n",
    "    'path_to_train_data',  # Path to the training data directory\n",
    "    target_size=(224, 224),  # Resize images to 224x224 pixels\n",
    "    batch_size=32,  # Set batch size to 32\n",
    "    class_mode='categorical'  # Use categorical mode for multi-class classification\n",
    ")\n",
    "\n",
    "# Train the model on the training data\n",
    "model.fit(train_generator, epochs=10)  # Train for 10 epochs\n",
    "\n",
    "# Prepare the test data with normalization\n",
    "test_datagen = ImageDataGenerator(rescale=1./255)  # Rescale pixel values to [0, 1]\n",
    "test_generator = test_datagen.flow_from_directory(\n",
    "    'path_to_test_data',  # Path to the test data directory\n",
    "    target_size=(224, 224),  # Resize images to 224x224 pixels\n",
    "    batch_size=32,  # Set batch size to 32\n",
    "    class_mode='categorical'  # Use categorical mode for multi-class classification\n",
    ")\n",
    "\n",
    "# Evaluate the model on the test data\n",
    "loss, accuracy = model.evaluate(test_generator)  # Evaluate and get loss and accuracy\n",
    "print(f'Test accuracy: {accuracy:.2f}')  # Print the test accuracy\n"
   ],
   "metadata": {
    "collapsed": false,
    "is_executing": true
   },
   "id": "4823456d336c8c28"
  },
  {
   "cell_type": "markdown",
   "source": [
    "### Explanation of the Code:\n",
    "- **Imports**: The code imports TensorFlow and necessary Keras modules for loading a pre-trained model, building layers, and processing images.\n",
    "- **VGG16 Model**: The VGG16 model is loaded with weights pre-trained on ImageNet, but without the final classification layers, allowing customization for a specific task.\n",
    "- **Custom Layers**: After the VGG16 model, custom dense layers are added to adapt the model to the new classification problem (10 classes in this case).\n",
    "- **Model Freezing**: The layers of the base VGG16 model are frozen to prevent them from being updated during training, leveraging the already learned features.\n",
    "- **Data Preparation**: `ImageDataGenerator` is used to load and preprocess the training and test images by resizing them and normalizing pixel values.\n",
    "- **Training and Evaluation**: The model is trained on the training data and evaluated on the test data, with the final accuracy printed out."
   ],
   "metadata": {
    "collapsed": false
   },
   "id": "d362fadf479588a8"
  },
  {
   "cell_type": "code",
   "outputs": [],
   "source": [],
   "metadata": {
    "collapsed": false
   },
   "id": "baedfbc78bcac0e2"
  },
  {
   "cell_type": "markdown",
   "source": [],
   "metadata": {
    "collapsed": false
   },
   "id": "72b470befe038f46"
  },
  {
   "cell_type": "markdown",
   "source": [],
   "metadata": {
    "collapsed": false
   },
   "id": "169831ddcc55d3ea"
  },
  {
   "cell_type": "markdown",
   "source": [],
   "metadata": {
    "collapsed": false
   },
   "id": "f055a899224753d1"
  },
  {
   "cell_type": "markdown",
   "source": [],
   "metadata": {
    "collapsed": false
   },
   "id": "d0a5d1e86356273"
  },
  {
   "cell_type": "markdown",
   "source": [
    "# Difference betweeen CNN and RNN"
   ],
   "metadata": {
    "collapsed": false
   },
   "id": "e7c4e006f784fa1d"
  },
  {
   "cell_type": "markdown",
   "source": [
    "Convolutional Neural Networks (CNNs) and Recurrent Neural Networks (RNNs) are both types of artificial neural networks used in deep learning, but they are designed for different types of tasks and handle data differently.\n",
    "\n",
    "### Convolutional Neural Networks (CNNs):\n",
    "- **Architecture:** CNNs are designed with layers that include convolutional layers, pooling layers, and fully connected layers. The convolutional layers apply filters to the input data to extract spatial features, which are especially useful for processing grid-like data structures such as images.\n",
    "- **Data Handling:** CNNs excel at capturing spatial hierarchies and local patterns in data, like edges, textures, and shapes in images. They work well with 2D data like images or 3D data like videos.\n",
    "- **Applications:** CNNs are primarily used for tasks like image classification, object detection, and segmentation, where the spatial structure of the data is crucial.\n",
    "\n",
    "### Recurrent Neural Networks (RNNs):\n",
    "- **Architecture:** RNNs have a looped architecture where the output from a layer is fed back into the input, allowing them to maintain a memory of previous inputs. This structure makes them suitable for sequential data.\n",
    "- **Data Handling:** RNNs are designed to process sequences of data, making them ideal for tasks where the order of data is important. They handle time-series data, text, and any other type of sequential data by using their internal state (memory) to capture dependencies across time steps.\n",
    "- **Applications:** RNNs are commonly used in tasks like natural language processing, speech recognition, and time-series forecasting, where understanding the temporal or sequential context is essential.\n",
    "\n",
    "### Key Differences:\n",
    "- **Data Type:** CNNs are best for spatial data (e.g., images), while RNNs are suited for sequential data (e.g., text or time series).\n",
    "- **Memory:** RNNs have a built-in mechanism to maintain a memory of previous inputs, which is absent in CNNs.\n",
    "- **Architecture:** CNNs use convolutional operations to capture spatial relationships, whereas RNNs use recurrent connections to capture temporal dependencies.\n",
    "\n",
    "Each network type is optimized for specific kinds of data and tasks, and sometimes they can be combined in hybrid models to leverage the strengths of both architectures."
   ],
   "metadata": {
    "collapsed": false
   },
   "id": "b98e0cc49d5bf623"
  },
  {
   "cell_type": "markdown",
   "source": [
    "# Sequence Model Categories"
   ],
   "metadata": {
    "collapsed": false
   },
   "id": "df064de237795fa5"
  },
  {
   "cell_type": "markdown",
   "source": [
    "Sequence models are a broad class of models in deep learning designed to handle sequential data, where the order of the data points matters. These models can be categorized based on how they process input and output sequences. The main categories of sequence models are:\n",
    "### 1. **One-to-One**\n",
    "   - **Description:** This is the traditional form of neural networks where a single input produces a single output.\n",
    "    - **Example:** Image classification where an image is input, and a class label is output.\n",
    "    - **Application:** Standard feedforward neural networks (e.g., fully connected networks) used in tasks like image recognition.\n",
    "\n",
    "### 2. **One-to-Many**\n",
    "   - **Description:** A single input produces a sequence of outputs.\n",
    "    - **Example:** Image captioning, where an image (input) generates a sentence (output sequence).\n",
    "    - **Application:** Models like RNNs or CNNs used for generating descriptive text from images or audio files.\n",
    "\n",
    "### 3. **Many-to-One**\n",
    "   - **Description:** A sequence of inputs produces a single output.\n",
    "    - **Example:** Sentiment analysis, where a sequence of words (input) leads to a sentiment label (output).\n",
    "    - **Application:** RNNs, particularly LSTM or GRU, are used to aggregate information over the sequence to make a final prediction.\n",
    "\n",
    "### 4. **Many-to-Many**\n",
    "   - **Description:** A sequence of inputs produces a sequence of outputs. There are two subtypes:\n",
    "    - **A. Synchronous Many-to-Many:** The output sequence is of the same length as the input sequence.\n",
    "    - **Example:** Video classification on a frame-by-frame basis, where each frame (input) leads to a classification (output).\n",
    "- **B. Asynchronous Many-to-Many:** The output sequence can be of a different length than the input sequence.\n",
    "- **Example:** Machine translation, where a sentence in one language (input) is translated into a sentence in another language (output).\n",
    "- **Application:** RNNs, LSTMs, GRUs, and Transformer models are commonly used, with applications in tasks like language translation, speech recognition, and video captioning.\n",
    "\n",
    "### 5. **Sequence-to-Sequence (Seq2Seq)**\n",
    "- **Description:** A specific type of Many-to-Many model where both input and output are sequences, often of different lengths.\n",
    "- **Example:** Language translation, where the input is a sentence in one language and the output is the corresponding sentence in another language.\n",
    "- **Application:** Seq2Seq models typically use an encoder-decoder architecture, often with attention mechanisms (as in the Transformer model), and are widely used in tasks like translation, summarization, and conversational AI.\n",
    "\n",
    "### 6. **Attention and Transformer Models**\n",
    "- **Description:** These models, particularly the Transformer architecture, use attention mechanisms to process sequences in parallel rather than sequentially. This allows them to handle long-range dependencies and scale well to large datasets.\n",
    "- **Example:** BERT, GPT, and other Transformer-based models are used for tasks like text generation, language modeling, and machine translation.\n",
    "- **Application:** Natural language processing tasks, including those that require understanding context over long sequences.\n",
    "\n",
    "These categories provide a framework for understanding how sequence models can be applied to various tasks depending on the nature of the input and output data."
   ],
   "metadata": {
    "collapsed": false
   },
   "id": "65edec23ed86d8da"
  },
  {
   "cell_type": "code",
   "outputs": [],
   "source": [],
   "metadata": {
    "collapsed": false
   },
   "id": "9c9c3ec992307ef8"
  }
 ],
 "metadata": {
  "kernelspec": {
   "display_name": "Python 3",
   "language": "python",
   "name": "python3"
  },
  "language_info": {
   "codemirror_mode": {
    "name": "ipython",
    "version": 2
   },
   "file_extension": ".py",
   "mimetype": "text/x-python",
   "name": "python",
   "nbconvert_exporter": "python",
   "pygments_lexer": "ipython2",
   "version": "2.7.6"
  }
 },
 "nbformat": 4,
 "nbformat_minor": 5
}
